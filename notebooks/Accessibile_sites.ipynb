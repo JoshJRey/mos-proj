{
 "cells": [
  {
   "cell_type": "markdown",
   "metadata": {},
   "source": [
    "# Filtering accessible sites"
   ]
  },
  {
   "cell_type": "markdown",
   "metadata": {},
   "source": [
    "Attempts to filter out accessible sites, following Alastairs selecting variants and samples blog post."
   ]
  },
  {
   "cell_type": "code",
   "execution_count": 11,
   "metadata": {},
   "outputs": [],
   "source": [
    "##Import modules and data\n",
    "import h5py\n",
    "import numpy as np\n",
    "import sys\n",
    "import allel"
   ]
  },
  {
   "cell_type": "code",
   "execution_count": 2,
   "metadata": {},
   "outputs": [],
   "source": [
    "callset = h5py.File(\"../data/phase1/hdf5/ag1000g.phase1.ar3.pass.h5\", mode='r')\n",
    "chrom = '3L'"
   ]
  },
  {
   "cell_type": "markdown",
   "metadata": {},
   "source": [
    "Not sure whether to shallow copy or not, so here are both"
   ]
  },
  {
   "cell_type": "code",
   "execution_count": 4,
   "metadata": {},
   "outputs": [],
   "source": [
    "accessible = callset[chrom]['variants']['Accessible'][:]\n",
    "accessible_nocolon = callset[chrom]['variants']['Accessible']"
   ]
  },
  {
   "cell_type": "code",
   "execution_count": 5,
   "metadata": {},
   "outputs": [
    {
     "data": {
      "text/plain": [
       "array([ True,  True,  True, ...,  True,  True,  True])"
      ]
     },
     "execution_count": 5,
     "metadata": {},
     "output_type": "execute_result"
    }
   ],
   "source": [
    "accessible"
   ]
  },
  {
   "cell_type": "code",
   "execution_count": 6,
   "metadata": {},
   "outputs": [
    {
     "data": {
      "text/plain": [
       "<HDF5 dataset \"Accessible\": shape (9643193,), type \"|b1\">"
      ]
     },
     "execution_count": 6,
     "metadata": {},
     "output_type": "execute_result"
    }
   ],
   "source": [
    "accessible_nocolon"
   ]
  },
  {
   "cell_type": "markdown",
   "metadata": {},
   "source": [
    "accessible here appears to be an array of boolean values, not sure what the _nocolon is\n"
   ]
  },
  {
   "cell_type": "code",
   "execution_count": 7,
   "metadata": {
    "scrolled": true
   },
   "outputs": [
    {
     "name": "stdout",
     "output_type": "stream",
     "text": [
      "Variable             Type       Data/Info\n",
      "-----------------------------------------\n",
      "accessible           ndarray    9643193: 9643193 elems, type `bool`, 9643193 bytes (9.196465492248535 Mb)\n",
      "accessible_nocolon   Dataset    <HDF5 dataset \"Accessible<...>e (9643193,), type \"|b1\">\n",
      "callset              File       <HDF5 file \"ag1000g.phase1.ar3.pass.h5\" (mode r)>\n",
      "chrom                str        3L\n",
      "h5py                 module     <module 'h5py' from '/hom<...>ckages/h5py/__init__.py'>\n",
      "np                   module     <module 'numpy' from '/ho<...>kages/numpy/__init__.py'>\n",
      "sys                  module     <module 'sys' (built-in)>\n"
     ]
    }
   ],
   "source": [
    "##check info about variables\n",
    "%whos\n"
   ]
  },
  {
   "cell_type": "markdown",
   "metadata": {},
   "source": [
    "False counts as 0 in python and True 1, so if only some of the data are true the value we'll get will be less than the total number of values, 9643193"
   ]
  },
  {
   "cell_type": "code",
   "execution_count": 8,
   "metadata": {},
   "outputs": [
    {
     "data": {
      "text/plain": [
       "9643193"
      ]
     },
     "execution_count": 8,
     "metadata": {},
     "output_type": "execute_result"
    }
   ],
   "source": [
    "#count all of the non-zero values\n",
    "np.count_nonzero(accessible)"
   ]
  },
  {
   "cell_type": "code",
   "execution_count": 9,
   "metadata": {},
   "outputs": [
    {
     "data": {
      "text/plain": [
       "9643193"
      ]
     },
     "execution_count": 9,
     "metadata": {},
     "output_type": "execute_result"
    }
   ],
   "source": [
    "##try adding all values in array together\n",
    "sum(accessible)"
   ]
  },
  {
   "cell_type": "code",
   "execution_count": 10,
   "metadata": {},
   "outputs": [
    {
     "data": {
      "text/plain": [
       "array([ True])"
      ]
     },
     "execution_count": 10,
     "metadata": {},
     "output_type": "execute_result"
    }
   ],
   "source": [
    "##check to see what values found in array\n",
    "np.unique(accessible_nocolon)"
   ]
  },
  {
   "cell_type": "markdown",
   "metadata": {},
   "source": [
    "These all seem to suggest that all of the sites in the pass data are accessible."
   ]
  },
  {
   "cell_type": "markdown",
   "metadata": {},
   "source": [
    "Now to try in a non-filtered file that we know has both accessible and non accessible sites, from the accessibility data folder.\n",
    "\n",
    "First we need to convert to hdf5 because I don't know how to work in vcf:"
   ]
  },
  {
   "cell_type": "code",
   "execution_count": 16,
   "metadata": {},
   "outputs": [],
   "source": [
    "##convert using scikit-allel\n",
    "allel.vcf_to_hdf5('../data/phase1/vcf/accessibility.3L.vcf', '../data/phase1/vcf/accessibility.3L.h5', fields='*', overwrite=True)"
   ]
  },
  {
   "cell_type": "markdown",
   "metadata": {},
   "source": [
    "Now to load the file into our environment."
   ]
  },
  {
   "cell_type": "code",
   "execution_count": 19,
   "metadata": {},
   "outputs": [
    {
     "data": {
      "text/plain": [
       "<HDF5 file \"accessibility.3L.h5\" (mode r)>"
      ]
     },
     "execution_count": 19,
     "metadata": {},
     "output_type": "execute_result"
    }
   ],
   "source": [
    "test = h5py.File('../data/phase1/vcf/accessibility.3L.h5', mode='r')\n",
    "test"
   ]
  },
  {
   "cell_type": "markdown",
   "metadata": {},
   "source": [
    "Here we'll set up two variables, one that is shallow copied and one that isn't (this will act as a count for total number of sites."
   ]
  },
  {
   "cell_type": "code",
   "execution_count": 23,
   "metadata": {},
   "outputs": [
    {
     "data": {
      "text/plain": [
       "array([False, False, False, ..., False, False, False])"
      ]
     },
     "execution_count": 23,
     "metadata": {},
     "output_type": "execute_result"
    }
   ],
   "source": [
    "test_access = test['variants']['Accessible'][:]\n",
    "test_access"
   ]
  },
  {
   "cell_type": "code",
   "execution_count": 25,
   "metadata": {},
   "outputs": [
    {
     "data": {
      "text/plain": [
       "<HDF5 dataset \"Accessible\": shape (41963435,), type \"|b1\">"
      ]
     },
     "execution_count": 25,
     "metadata": {},
     "output_type": "execute_result"
    }
   ],
   "source": [
    "test_numbers = test['variants']['Accessible']\n",
    "test_numbers"
   ]
  },
  {
   "cell_type": "markdown",
   "metadata": {},
   "source": [
    "Now lets sum the shallow array:"
   ]
  },
  {
   "cell_type": "code",
   "execution_count": 24,
   "metadata": {},
   "outputs": [
    {
     "data": {
      "text/plain": [
       "24946488"
      ]
     },
     "execution_count": 24,
     "metadata": {},
     "output_type": "execute_result"
    }
   ],
   "source": [
    "sum(test_access)"
   ]
  },
  {
   "cell_type": "markdown",
   "metadata": {},
   "source": [
    "If we sum the shallow copied one, we see that it =/= the total count. This therefore tells us that all sites in the pass data, at least for chromosome 3L, are accessible."
   ]
  }
 ],
 "metadata": {
  "kernelspec": {
   "display_name": "Python 3",
   "language": "python",
   "name": "python3"
  },
  "language_info": {
   "codemirror_mode": {
    "name": "ipython",
    "version": 3
   },
   "file_extension": ".py",
   "mimetype": "text/x-python",
   "name": "python",
   "nbconvert_exporter": "python",
   "pygments_lexer": "ipython3",
   "version": "3.6.7"
  }
 },
 "nbformat": 4,
 "nbformat_minor": 2
}
