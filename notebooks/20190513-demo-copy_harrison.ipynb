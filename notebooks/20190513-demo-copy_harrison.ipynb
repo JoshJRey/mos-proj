{
 "cells": [
  {
   "cell_type": "code",
   "execution_count": 2,
   "metadata": {},
   "outputs": [],
   "source": [
    "import zarr\n",
    "import allel"
   ]
  },
  {
   "cell_type": "code",
   "execution_count": 3,
   "metadata": {},
   "outputs": [],
   "source": [
    "callset = zarr.open(\"../phase2.AR1/variation/main/zarr2/ag1000g.phase2.ar1.pass.biallelic\")"
   ]
  },
  {
   "cell_type": "code",
   "execution_count": 4,
   "metadata": {},
   "outputs": [
    {
     "data": {
      "text/html": [
       "<link rel=\"stylesheet\" href=\"//cdnjs.cloudflare.com/ajax/libs/jstree/3.3.3/themes/default/style.min.css\"/><div id=\"883f8747-b23b-42c3-b60e-57a77db64207\" class=\"zarr-tree\"><ul><li data-jstree='{\"type\": \"Group\"}' class='jstree-open'><span>/</span><ul><li data-jstree='{\"type\": \"Group\"}' class=''><span>2L</span><ul><li data-jstree='{\"type\": \"Group\"}' class=''><span>calldata</span><ul><li data-jstree='{\"type\": \"Array\"}' class=''><span>AD (8906423, 1142, 4) uint16</span></li><li data-jstree='{\"type\": \"Array\"}' class=''><span>GQ (8906423, 1142) uint8</span></li><li data-jstree='{\"type\": \"Array\"}' class=''><span>genotype (8906423, 1142, 2) int8</span></li></ul></li><li data-jstree='{\"type\": \"Group\"}' class=''><span>variants</span><ul><li data-jstree='{\"type\": \"Array\"}' class=''><span>ABHet (8906423,) float16</span></li><li data-jstree='{\"type\": \"Array\"}' class=''><span>ABHom (8906423,) float16</span></li><li data-jstree='{\"type\": \"Array\"}' class=''><span>AC (8906423, 3) uint16</span></li><li data-jstree='{\"type\": \"Array\"}' class=''><span>AF (8906423, 3) float16</span></li><li data-jstree='{\"type\": \"Array\"}' class=''><span>ALT (8906423, 3) |S1</span></li><li data-jstree='{\"type\": \"Array\"}' class=''><span>AN (8906423,) uint16</span></li><li data-jstree='{\"type\": \"Array\"}' class=''><span>Accessible (8906423,) bool</span></li><li data-jstree='{\"type\": \"Array\"}' class=''><span>BaseCounts (8906423, 4) int32</span></li><li data-jstree='{\"type\": \"Array\"}' class=''><span>BaseQRankSum (8906423,) float16</span></li><li data-jstree='{\"type\": \"Array\"}' class=''><span>CHROM (8906423,) |S12</span></li><li data-jstree='{\"type\": \"Array\"}' class=''><span>Coverage (8906423,) int32</span></li><li data-jstree='{\"type\": \"Array\"}' class=''><span>DS (8906423,) bool</span></li><li data-jstree='{\"type\": \"Array\"}' class=''><span>Dels (8906423,) float16</span></li><li data-jstree='{\"type\": \"Array\"}' class=''><span>FS (8906423,) float16</span></li><li data-jstree='{\"type\": \"Array\"}' class=''><span>HRun (8906423,) uint8</span></li><li data-jstree='{\"type\": \"Array\"}' class=''><span>HW (8906423,) float32</span></li><li data-jstree='{\"type\": \"Array\"}' class=''><span>HaplotypeScore (8906423,) float16</span></li><li data-jstree='{\"type\": \"Array\"}' class=''><span>HighCoverage (8906423,) int32</span></li><li data-jstree='{\"type\": \"Array\"}' class=''><span>InbreedingCoeff (8906423,) float16</span></li><li data-jstree='{\"type\": \"Array\"}' class=''><span>LowCoverage (8906423,) int32</span></li><li data-jstree='{\"type\": \"Array\"}' class=''><span>LowMQ (8906423,) int32</span></li><li data-jstree='{\"type\": \"Array\"}' class=''><span>LowPairing (8906423,) int32</span></li><li data-jstree='{\"type\": \"Array\"}' class=''><span>MLEAC (8906423, 3) uint16</span></li><li data-jstree='{\"type\": \"Array\"}' class=''><span>MLEAF (8906423, 3) float16</span></li><li data-jstree='{\"type\": \"Array\"}' class=''><span>MQ (8906423,) float16</span></li><li data-jstree='{\"type\": \"Array\"}' class=''><span>MQRankSum (8906423,) float16</span></li><li data-jstree='{\"type\": \"Array\"}' class=''><span>NDA (8906423,) int32</span></li><li data-jstree='{\"type\": \"Array\"}' class=''><span>NoCoverage (8906423,) int32</span></li><li data-jstree='{\"type\": \"Array\"}' class=''><span>OND (8906423,) float16</span></li><li data-jstree='{\"type\": \"Array\"}' class=''><span>POS (8906423,) int32</span></li><li data-jstree='{\"type\": \"Array\"}' class=''><span>QD (8906423,) float16</span></li><li data-jstree='{\"type\": \"Array\"}' class=''><span>QUAL (8906423,) float32</span></li><li data-jstree='{\"type\": \"Array\"}' class=''><span>REF (8906423,) |S1</span></li><li data-jstree='{\"type\": \"Array\"}' class=''><span>RPA (8906423,) uint16</span></li><li data-jstree='{\"type\": \"Array\"}' class=''><span>RU (8906423,) |S12</span></li><li data-jstree='{\"type\": \"Array\"}' class=''><span>ReadPosRankSum (8906423,) float16</span></li><li data-jstree='{\"type\": \"Array\"}' class=''><span>RefMasked (8906423,) bool</span></li><li data-jstree='{\"type\": \"Array\"}' class=''><span>RefN (8906423,) bool</span></li><li data-jstree='{\"type\": \"Array\"}' class=''><span>RepeatDUST (8906423,) bool</span></li><li data-jstree='{\"type\": \"Array\"}' class=''><span>RepeatMasker (8906423,) bool</span></li><li data-jstree='{\"type\": \"Array\"}' class=''><span>RepeatTRF (8906423,) bool</span></li><li data-jstree='{\"type\": \"Array\"}' class=''><span>STR (8906423,) bool</span></li><li data-jstree='{\"type\": \"Array\"}' class=''><span>VariantType (8906423,) |S12</span></li><li data-jstree='{\"type\": \"Array\"}' class=''><span>is_snp (8906423,) bool</span></li><li data-jstree='{\"type\": \"Array\"}' class=''><span>num_alleles (8906423,) uint8</span></li><li data-jstree='{\"type\": \"Array\"}' class=''><span>svlen (8906423,) int32</span></li></ul></li></ul></li></ul></li></ul></div>\n",
       "<script>\n",
       "    if (!require.defined('jquery')) {\n",
       "        require.config({\n",
       "            paths: {\n",
       "                jquery: '//cdnjs.cloudflare.com/ajax/libs/jquery/1.12.1/jquery.min'\n",
       "            },\n",
       "        });\n",
       "    }\n",
       "    if (!require.defined('jstree')) {\n",
       "        require.config({\n",
       "            paths: {\n",
       "                jstree: '//cdnjs.cloudflare.com/ajax/libs/jstree/3.3.3/jstree.min'\n",
       "            },\n",
       "        });\n",
       "    }\n",
       "    require(['jstree'], function() {\n",
       "        $('#883f8747-b23b-42c3-b60e-57a77db64207').jstree({\n",
       "            types: {\n",
       "                Group: {\n",
       "                    icon: \"fa fa-folder\"\n",
       "                },\n",
       "                Array: {\n",
       "                    icon: \"fa fa-table\"\n",
       "                }\n",
       "            },\n",
       "            plugins: [\"types\"]\n",
       "        });\n",
       "    });\n",
       "</script>\n"
      ],
      "text/plain": [
       "/\n",
       " └── 2L\n",
       "     ├── calldata\n",
       "     │   ├── AD (8906423, 1142, 4) uint16\n",
       "     │   ├── GQ (8906423, 1142) uint8\n",
       "     │   └── genotype (8906423, 1142, 2) int8\n",
       "     └── variants\n",
       "         ├── ABHet (8906423,) float16\n",
       "         ├── ABHom (8906423,) float16\n",
       "         ├── AC (8906423, 3) uint16\n",
       "         ├── AF (8906423, 3) float16\n",
       "         ├── ALT (8906423, 3) |S1\n",
       "         ├── AN (8906423,) uint16\n",
       "         ├── Accessible (8906423,) bool\n",
       "         ├── BaseCounts (8906423, 4) int32\n",
       "         ├── BaseQRankSum (8906423,) float16\n",
       "         ├── CHROM (8906423,) |S12\n",
       "         ├── Coverage (8906423,) int32\n",
       "         ├── DS (8906423,) bool\n",
       "         ├── Dels (8906423,) float16\n",
       "         ├── FS (8906423,) float16\n",
       "         ├── HRun (8906423,) uint8\n",
       "         ├── HW (8906423,) float32\n",
       "         ├── HaplotypeScore (8906423,) float16\n",
       "         ├── HighCoverage (8906423,) int32\n",
       "         ├── InbreedingCoeff (8906423,) float16\n",
       "         ├── LowCoverage (8906423,) int32\n",
       "         ├── LowMQ (8906423,) int32\n",
       "         ├── LowPairing (8906423,) int32\n",
       "         ├── MLEAC (8906423, 3) uint16\n",
       "         ├── MLEAF (8906423, 3) float16\n",
       "         ├── MQ (8906423,) float16\n",
       "         ├── MQRankSum (8906423,) float16\n",
       "         ├── NDA (8906423,) int32\n",
       "         ├── NoCoverage (8906423,) int32\n",
       "         ├── OND (8906423,) float16\n",
       "         ├── POS (8906423,) int32\n",
       "         ├── QD (8906423,) float16\n",
       "         ├── QUAL (8906423,) float32\n",
       "         ├── REF (8906423,) |S1\n",
       "         ├── RPA (8906423,) uint16\n",
       "         ├── RU (8906423,) |S12\n",
       "         ├── ReadPosRankSum (8906423,) float16\n",
       "         ├── RefMasked (8906423,) bool\n",
       "         ├── RefN (8906423,) bool\n",
       "         ├── RepeatDUST (8906423,) bool\n",
       "         ├── RepeatMasker (8906423,) bool\n",
       "         ├── RepeatTRF (8906423,) bool\n",
       "         ├── STR (8906423,) bool\n",
       "         ├── VariantType (8906423,) |S12\n",
       "         ├── is_snp (8906423,) bool\n",
       "         ├── num_alleles (8906423,) uint8\n",
       "         └── svlen (8906423,) int32"
      ]
     },
     "execution_count": 4,
     "metadata": {},
     "output_type": "execute_result"
    }
   ],
   "source": [
    "callset.tree()"
   ]
  },
  {
   "cell_type": "code",
   "execution_count": 5,
   "metadata": {},
   "outputs": [],
   "source": [
    "chrom=\"2L\""
   ]
  },
  {
   "cell_type": "code",
   "execution_count": 6,
   "metadata": {},
   "outputs": [
    {
     "data": {
      "text/plain": [
       "<zarr.core.Array '/2L/variants/POS' (8906423,) int32>"
      ]
     },
     "execution_count": 6,
     "metadata": {},
     "output_type": "execute_result"
    }
   ],
   "source": [
    "callset[chrom][\"variants/POS\"]"
   ]
  },
  {
   "cell_type": "code",
   "execution_count": 7,
   "metadata": {},
   "outputs": [],
   "source": [
    "pos = allel.SortedIndex(callset[chrom][\"variants/POS\"])"
   ]
  },
  {
   "cell_type": "code",
   "execution_count": 8,
   "metadata": {},
   "outputs": [
    {
     "data": {
      "text/html": [
       "<div class=\"allel allel-DisplayAs1D\"><span>&lt;SortedIndex shape=(8906423,) dtype=int32&gt;</span><table><thead><tr><th style=\"text-align: center\">0</th><th style=\"text-align: center\">1</th><th style=\"text-align: center\">2</th><th style=\"text-align: center\">3</th><th style=\"text-align: center\">4</th><th style=\"text-align: center\">...</th><th style=\"text-align: center\">8906418</th><th style=\"text-align: center\">8906419</th><th style=\"text-align: center\">8906420</th><th style=\"text-align: center\">8906421</th><th style=\"text-align: center\">8906422</th></tr></thead><tbody><tr><td style=\"text-align: center\">25050</td><td style=\"text-align: center\">51212</td><td style=\"text-align: center\">51214</td><td style=\"text-align: center\">51226</td><td style=\"text-align: center\">51245</td><td style=\"text-align: center\">...</td><td style=\"text-align: center\">49356421</td><td style=\"text-align: center\">49356424</td><td style=\"text-align: center\">49356425</td><td style=\"text-align: center\">49356426</td><td style=\"text-align: center\">49356429</td></tr></tbody></table></div>"
      ],
      "text/plain": [
       "<SortedIndex shape=(8906423,) dtype=int32>\n",
       "[25050, 51212, 51214, 51226, 51245, ..., 49356421, 49356424, 49356425, 49356426, 49356429]"
      ]
     },
     "execution_count": 8,
     "metadata": {},
     "output_type": "execute_result"
    }
   ],
   "source": [
    "pos"
   ]
  },
  {
   "cell_type": "code",
   "execution_count": null,
   "metadata": {},
   "outputs": [],
   "source": [
    "loc = pos.locate_range(10000, 200000)"
   ]
  },
  {
   "cell_type": "code",
   "execution_count": null,
   "metadata": {},
   "outputs": [],
   "source": [
    "loc"
   ]
  },
  {
   "cell_type": "markdown",
   "metadata": {},
   "source": [
    "Can use this to filter genotype data"
   ]
  },
  {
   "cell_type": "markdown",
   "metadata": {},
   "source": [
    "# Genotypes"
   ]
  },
  {
   "cell_type": "code",
   "execution_count": 10,
   "metadata": {},
   "outputs": [],
   "source": [
    "g = allel.GenotypeDaskArray(callset[\"2L/calldata/genotype\"])"
   ]
  },
  {
   "cell_type": "code",
   "execution_count": null,
   "metadata": {},
   "outputs": [],
   "source": []
  },
  {
   "cell_type": "code",
   "execution_count": 11,
   "metadata": {},
   "outputs": [
    {
     "data": {
      "text/html": [
       "<div class=\"allel allel-DisplayAs2D\"><span>&lt;AlleleCountsDaskArray shape=(8906423, 2) dtype=int32&gt;</span><table><thead><tr><th></th><th style=\"text-align: center\">0</th><th style=\"text-align: center\">1</th></tr></thead><tbody><tr><th style=\"text-align: center; background-color: white; border-right: 1px solid black; \">0</th><td style=\"text-align: center\">2263</td><td style=\"text-align: center\">   1</td></tr><tr><th style=\"text-align: center; background-color: white; border-right: 1px solid black; \">1</th><td style=\"text-align: center\">2281</td><td style=\"text-align: center\">   1</td></tr><tr><th style=\"text-align: center; background-color: white; border-right: 1px solid black; \">2</th><td style=\"text-align: center\">1979</td><td style=\"text-align: center\"> 301</td></tr><tr><th style=\"text-align: center; background-color: white; border-right: 1px solid black; \">...</th><td style=\"text-align: center\" colspan=\"3\">...</td></tr><tr><th style=\"text-align: center; background-color: white; border-right: 1px solid black; \">8906420</th><td style=\"text-align: center\">2283</td><td style=\"text-align: center\">   1</td></tr><tr><th style=\"text-align: center; background-color: white; border-right: 1px solid black; \">8906421</th><td style=\"text-align: center\">2283</td><td style=\"text-align: center\">   1</td></tr><tr><th style=\"text-align: center; background-color: white; border-right: 1px solid black; \">8906422</th><td style=\"text-align: center\">2226</td><td style=\"text-align: center\">  58</td></tr></tbody></table></div>"
      ],
      "text/plain": [
       "<AlleleCountsDaskArray shape=(8906423, 2) dtype=int32>"
      ]
     },
     "execution_count": 11,
     "metadata": {},
     "output_type": "execute_result"
    }
   ],
   "source": [
    "ac = g.count_alleles()\n",
    "ac"
   ]
  },
  {
   "cell_type": "code",
   "execution_count": 12,
   "metadata": {},
   "outputs": [
    {
     "data": {
      "text/html": [
       "<div class=\"allel allel-DisplayAs2D\"><span>&lt;GenotypeDaskArray shape=(867, 1142, 2) dtype=int8&gt;</span><table><thead><tr><th></th><th style=\"text-align: center\">0</th><th style=\"text-align: center\">1</th><th style=\"text-align: center\">2</th><th style=\"text-align: center\">3</th><th style=\"text-align: center\">4</th><th style=\"text-align: center\">...</th><th style=\"text-align: center\">1137</th><th style=\"text-align: center\">1138</th><th style=\"text-align: center\">1139</th><th style=\"text-align: center\">1140</th><th style=\"text-align: center\">1141</th></tr></thead><tbody><tr><th style=\"text-align: center; background-color: white; border-right: 1px solid black; \">0</th><td style=\"text-align: center\">0/0</td><td style=\"text-align: center\">0/0</td><td style=\"text-align: center\">0/0</td><td style=\"text-align: center\">0/0</td><td style=\"text-align: center\">0/0</td><td style=\"text-align: center\">...</td><td style=\"text-align: center\">0/0</td><td style=\"text-align: center\">0/0</td><td style=\"text-align: center\">0/0</td><td style=\"text-align: center\">0/0</td><td style=\"text-align: center\">0/0</td></tr><tr><th style=\"text-align: center; background-color: white; border-right: 1px solid black; \">1</th><td style=\"text-align: center\">0/0</td><td style=\"text-align: center\">0/0</td><td style=\"text-align: center\">0/0</td><td style=\"text-align: center\">0/0</td><td style=\"text-align: center\">0/0</td><td style=\"text-align: center\">...</td><td style=\"text-align: center\">0/0</td><td style=\"text-align: center\">0/0</td><td style=\"text-align: center\">0/0</td><td style=\"text-align: center\">0/0</td><td style=\"text-align: center\">0/0</td></tr><tr><th style=\"text-align: center; background-color: white; border-right: 1px solid black; \">2</th><td style=\"text-align: center\">0/0</td><td style=\"text-align: center\">0/0</td><td style=\"text-align: center\">0/0</td><td style=\"text-align: center\">0/0</td><td style=\"text-align: center\">0/0</td><td style=\"text-align: center\">...</td><td style=\"text-align: center\">0/0</td><td style=\"text-align: center\">0/0</td><td style=\"text-align: center\">0/0</td><td style=\"text-align: center\">0/0</td><td style=\"text-align: center\">0/0</td></tr><tr><th style=\"text-align: center; background-color: white; border-right: 1px solid black; \">...</th><td style=\"text-align: center\" colspan=\"12\">...</td></tr><tr><th style=\"text-align: center; background-color: white; border-right: 1px solid black; \">864</th><td style=\"text-align: center\">0/0</td><td style=\"text-align: center\">0/0</td><td style=\"text-align: center\">0/0</td><td style=\"text-align: center\">0/0</td><td style=\"text-align: center\">0/0</td><td style=\"text-align: center\">...</td><td style=\"text-align: center\">0/0</td><td style=\"text-align: center\">0/0</td><td style=\"text-align: center\">0/0</td><td style=\"text-align: center\">0/0</td><td style=\"text-align: center\">0/0</td></tr><tr><th style=\"text-align: center; background-color: white; border-right: 1px solid black; \">865</th><td style=\"text-align: center\">0/0</td><td style=\"text-align: center\">0/0</td><td style=\"text-align: center\">0/0</td><td style=\"text-align: center\">0/0</td><td style=\"text-align: center\">0/0</td><td style=\"text-align: center\">...</td><td style=\"text-align: center\">0/0</td><td style=\"text-align: center\">0/0</td><td style=\"text-align: center\">0/0</td><td style=\"text-align: center\">0/0</td><td style=\"text-align: center\">0/0</td></tr><tr><th style=\"text-align: center; background-color: white; border-right: 1px solid black; \">866</th><td style=\"text-align: center\">0/0</td><td style=\"text-align: center\">0/0</td><td style=\"text-align: center\">0/0</td><td style=\"text-align: center\">0/0</td><td style=\"text-align: center\">0/0</td><td style=\"text-align: center\">...</td><td style=\"text-align: center\">0/0</td><td style=\"text-align: center\">0/0</td><td style=\"text-align: center\">0/0</td><td style=\"text-align: center\">0/0</td><td style=\"text-align: center\">0/0</td></tr></tbody></table></div>"
      ],
      "text/plain": [
       "<GenotypeDaskArray shape=(867, 1142, 2) dtype=int8>"
      ]
     },
     "execution_count": 12,
     "metadata": {},
     "output_type": "execute_result"
    }
   ],
   "source": [
    "g[loc]"
   ]
  },
  {
   "cell_type": "code",
   "execution_count": 13,
   "metadata": {},
   "outputs": [
    {
     "data": {
      "text/html": [
       "<div class=\"allel allel-DisplayAs2D\"><span>&lt;GenotypeDaskArray shape=(8906423, 1142, 2) dtype=int8&gt;</span><table><thead><tr><th></th><th style=\"text-align: center\">0</th><th style=\"text-align: center\">1</th><th style=\"text-align: center\">2</th><th style=\"text-align: center\">3</th><th style=\"text-align: center\">4</th><th style=\"text-align: center\">...</th><th style=\"text-align: center\">1137</th><th style=\"text-align: center\">1138</th><th style=\"text-align: center\">1139</th><th style=\"text-align: center\">1140</th><th style=\"text-align: center\">1141</th></tr></thead><tbody><tr><th style=\"text-align: center; background-color: white; border-right: 1px solid black; \">0</th><td style=\"text-align: center\">0/0</td><td style=\"text-align: center\">0/0</td><td style=\"text-align: center\">0/0</td><td style=\"text-align: center\">0/0</td><td style=\"text-align: center\">0/0</td><td style=\"text-align: center\">...</td><td style=\"text-align: center\">0/0</td><td style=\"text-align: center\">0/0</td><td style=\"text-align: center\">0/0</td><td style=\"text-align: center\">0/0</td><td style=\"text-align: center\">0/0</td></tr><tr><th style=\"text-align: center; background-color: white; border-right: 1px solid black; \">1</th><td style=\"text-align: center\">0/0</td><td style=\"text-align: center\">0/0</td><td style=\"text-align: center\">0/0</td><td style=\"text-align: center\">0/0</td><td style=\"text-align: center\">0/0</td><td style=\"text-align: center\">...</td><td style=\"text-align: center\">0/0</td><td style=\"text-align: center\">0/0</td><td style=\"text-align: center\">0/0</td><td style=\"text-align: center\">0/0</td><td style=\"text-align: center\">0/0</td></tr><tr><th style=\"text-align: center; background-color: white; border-right: 1px solid black; \">2</th><td style=\"text-align: center\">0/0</td><td style=\"text-align: center\">0/0</td><td style=\"text-align: center\">0/0</td><td style=\"text-align: center\">0/0</td><td style=\"text-align: center\">0/0</td><td style=\"text-align: center\">...</td><td style=\"text-align: center\">0/0</td><td style=\"text-align: center\">0/0</td><td style=\"text-align: center\">0/0</td><td style=\"text-align: center\">0/0</td><td style=\"text-align: center\">0/0</td></tr><tr><th style=\"text-align: center; background-color: white; border-right: 1px solid black; \">...</th><td style=\"text-align: center\" colspan=\"12\">...</td></tr><tr><th style=\"text-align: center; background-color: white; border-right: 1px solid black; \">8906420</th><td style=\"text-align: center\">0/0</td><td style=\"text-align: center\">0/0</td><td style=\"text-align: center\">0/0</td><td style=\"text-align: center\">0/0</td><td style=\"text-align: center\">0/0</td><td style=\"text-align: center\">...</td><td style=\"text-align: center\">0/0</td><td style=\"text-align: center\">0/0</td><td style=\"text-align: center\">0/0</td><td style=\"text-align: center\">0/0</td><td style=\"text-align: center\">0/0</td></tr><tr><th style=\"text-align: center; background-color: white; border-right: 1px solid black; \">8906421</th><td style=\"text-align: center\">0/0</td><td style=\"text-align: center\">0/0</td><td style=\"text-align: center\">0/0</td><td style=\"text-align: center\">0/0</td><td style=\"text-align: center\">0/0</td><td style=\"text-align: center\">...</td><td style=\"text-align: center\">0/0</td><td style=\"text-align: center\">0/0</td><td style=\"text-align: center\">0/0</td><td style=\"text-align: center\">0/0</td><td style=\"text-align: center\">0/0</td></tr><tr><th style=\"text-align: center; background-color: white; border-right: 1px solid black; \">8906422</th><td style=\"text-align: center\">0/0</td><td style=\"text-align: center\">0/0</td><td style=\"text-align: center\">0/0</td><td style=\"text-align: center\">0/0</td><td style=\"text-align: center\">0/0</td><td style=\"text-align: center\">...</td><td style=\"text-align: center\">0/0</td><td style=\"text-align: center\">0/0</td><td style=\"text-align: center\">0/0</td><td style=\"text-align: center\">0/0</td><td style=\"text-align: center\">0/0</td></tr></tbody></table></div>"
      ],
      "text/plain": [
       "<GenotypeDaskArray shape=(8906423, 1142, 2) dtype=int8>"
      ]
     },
     "execution_count": 13,
     "metadata": {},
     "output_type": "execute_result"
    }
   ],
   "source": [
    "g"
   ]
  },
  {
   "cell_type": "code",
   "execution_count": null,
   "metadata": {},
   "outputs": [],
   "source": []
  }
 ],
 "metadata": {
  "kernelspec": {
   "display_name": "Python 3",
   "language": "python",
   "name": "python3"
  },
  "language_info": {
   "codemirror_mode": {
    "name": "ipython",
    "version": 3
   },
   "file_extension": ".py",
   "mimetype": "text/x-python",
   "name": "python",
   "nbconvert_exporter": "python",
   "pygments_lexer": "ipython3",
   "version": "3.6.7"
  }
 },
 "nbformat": 4,
 "nbformat_minor": 2
}
