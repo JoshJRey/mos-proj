{
 "cells": [
  {
   "cell_type": "markdown",
   "metadata": {},
   "source": [
    "Setup file to run with most Ag1000g scripts. Runs based off "
   ]
  },
  {
   "cell_type": "code",
   "execution_count": 1,
   "metadata": {},
   "outputs": [
    {
     "data": {
      "text/html": [
       "<style type=\"text/css\">\n",
       ".container {\n",
       "    width: 100%;\n",
       "}\n",
       "div#notebook {\n",
       "    padding-top: 1em;\n",
       "}\n",
       "#header-container {\n",
       "    display: none;\n",
       "}\n",
       "#header-bar {\n",
       "    display: none;\n",
       "}\n",
       "#maintoolbar {\n",
       "    display: none;\n",
       "}\n",
       "#menubar-container {\n",
       "    position: fixed;\n",
       "    margin-top: 0;\n",
       "}\n",
       "#site {\n",
       "    height: auto !important;\n",
       "}\n",
       "</style>"
      ],
      "text/plain": [
       "<IPython.core.display.HTML object>"
      ]
     },
     "metadata": {},
     "output_type": "display_data"
    }
   ],
   "source": [
    "%%HTML\n",
    "<style type=\"text/css\">\n",
    ".container {\n",
    "    width: 100%;\n",
    "}\n",
    "div#notebook {\n",
    "    padding-top: 1em;\n",
    "}\n",
    "#header-container {\n",
    "    display: none;\n",
    "}\n",
    "#header-bar {\n",
    "    display: none;\n",
    "}\n",
    "#maintoolbar {\n",
    "    display: none;\n",
    "}\n",
    "#menubar-container {\n",
    "    position: fixed;\n",
    "    margin-top: 0;\n",
    "}\n",
    "#site {\n",
    "    height: auto !important;\n",
    "}\n",
    "</style>"
   ]
  },
  {
   "cell_type": "code",
   "execution_count": 2,
   "metadata": {},
   "outputs": [],
   "source": [
    "# python standard library\n",
    "import sys\n",
    "import os\n",
    "import operator\n",
    "import itertools\n",
    "import collections\n",
    "import functools\n",
    "import glob\n",
    "import csv\n",
    "import datetime\n",
    "import bisect\n",
    "import sqlite3\n",
    "import subprocess\n",
    "import random\n",
    "import gc\n",
    "import shutil\n",
    "import shelve\n",
    "import contextlib\n",
    "import tempfile\n",
    "import math\n",
    "from pathlib import Path"
   ]
  },
  {
   "cell_type": "code",
   "execution_count": 3,
   "metadata": {},
   "outputs": [],
   "source": [
    "# general purpose third party packages\n",
    "\n",
    "import cython\n",
    "%reload_ext Cython\n",
    "\n",
    "import numpy as np\n",
    "nnz = np.count_nonzero\n",
    "import scipy\n",
    "import scipy.stats\n",
    "import scipy.spatial.distance\n",
    "import numexpr\n",
    "import h5py\n",
    "import tables\n",
    "import bcolz\n",
    "import dask\n",
    "import dask.array as da\n",
    "import pandas\n",
    "import IPython\n",
    "from IPython.display import clear_output, display, HTML\n",
    "import sklearn\n",
    "import sklearn.decomposition\n",
    "import sklearn.manifold\n",
    "import petl as etl\n",
    "etl.config.display_index_header = True\n",
    "#import humanize\n",
    "#from humanize import naturalsize, intcomma, intword\n",
    "import zarr\n",
    "import graphviz\n",
    "import statsmodels.formula.api as sfa"
   ]
  },
  {
   "cell_type": "code",
   "execution_count": 4,
   "metadata": {},
   "outputs": [],
   "source": [
    "# plotting setup\n",
    "import matplotlib as mpl\n",
    "import matplotlib.pyplot as plt\n",
    "from matplotlib.colors import ListedColormap\n",
    "from matplotlib.gridspec import GridSpec\n",
    "import matplotlib_venn as venn\n",
    "import seaborn as sns\n",
    "sns.set_context('paper')\n",
    "sns.set_style('white')\n",
    "sns.set_style('ticks')\n",
    "plt.rcParams['figure.max_open_warning'] = 1000"
   ]
  },
  {
   "cell_type": "code",
   "execution_count": 5,
   "metadata": {},
   "outputs": [],
   "source": [
    "# bio third party packages\n",
    "import Bio\n",
    "import pyfasta\n",
    "import pysam\n",
    "# currently broken\n",
    "# import pysamstats\n",
    "import petlx\n",
    "import petlx.bio\n",
    "import vcf\n",
    "##had to pip install anhima\n",
    "import anhima\n",
    "import allel"
   ]
  },
  {
   "cell_type": "code",
   "execution_count": 6,
   "metadata": {},
   "outputs": [],
   "source": [
    "sys.path.insert(0, '/home/joshjrey/Documents/mosquito_project/agam-report-base/src/python')\n",
    "from util import *\n",
    "import zcache\n",
    "import veff"
   ]
  },
  {
   "cell_type": "code",
   "execution_count": 7,
   "metadata": {},
   "outputs": [],
   "source": [
    "# import hapclust\n",
    "ag1k_dir = '/home/joshjrey/Documents/mosquito_project/data/ag1k'\n",
    "from ag1k import phase1_ar3\n",
    "phase1_ar3.init(os.path.join(ag1k_dir, 'phase1.AR3'))\n",
    "from ag1k import phase1_ar31\n",
    "phase1_ar31.init(os.path.join(ag1k_dir, 'phase1.AR3.1'))\n",
    "from ag1k import phase2_ar1\n",
    "phase2_ar1.init(os.path.join(ag1k_dir, 'phase2.AR1'))"
   ]
  },
  {
   "cell_type": "code",
   "execution_count": null,
   "metadata": {},
   "outputs": [],
   "source": []
  },
  {
   "cell_type": "code",
   "execution_count": 8,
   "metadata": {},
   "outputs": [
    {
     "data": {
      "text/plain": [
       "<module 'ag1k.phase1_ar3' from '/home/joshjrey/Documents/mosquito_project/agam-report-base/src/python/ag1k/phase1_ar3.py'>"
      ]
     },
     "execution_count": 8,
     "metadata": {},
     "output_type": "execute_result"
    }
   ],
   "source": [
    "phase1_ar3"
   ]
  },
  {
   "cell_type": "code",
   "execution_count": null,
   "metadata": {},
   "outputs": [],
   "source": []
  }
 ],
 "metadata": {
  "kernelspec": {
   "display_name": "Mos-proj",
   "language": "python",
   "name": "mos-proj"
  },
  "language_info": {
   "codemirror_mode": {
    "name": "ipython",
    "version": 3
   },
   "file_extension": ".py",
   "mimetype": "text/x-python",
   "name": "python",
   "nbconvert_exporter": "python",
   "pygments_lexer": "ipython3",
   "version": "3.6.8"
  }
 },
 "nbformat": 4,
 "nbformat_minor": 1
}
