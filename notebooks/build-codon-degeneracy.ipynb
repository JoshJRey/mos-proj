{
 "cells": [
  {
   "cell_type": "code",
   "execution_count": 1,
   "metadata": {},
   "outputs": [
    {
     "data": {
      "text/html": [
       "<style type=\"text/css\">\n",
       ".container {\n",
       "    width: 100%;\n",
       "}\n",
       "div#notebook {\n",
       "    padding-top: 1em;\n",
       "}\n",
       "#header-container {\n",
       "    display: none;\n",
       "}\n",
       "#header-bar {\n",
       "    display: none;\n",
       "}\n",
       "#maintoolbar {\n",
       "    display: none;\n",
       "}\n",
       "#menubar-container {\n",
       "    position: fixed;\n",
       "    margin-top: 0;\n",
       "}\n",
       "#site {\n",
       "    height: auto !important;\n",
       "}\n",
       "</style>"
      ],
      "text/plain": [
       "<IPython.core.display.HTML object>"
      ]
     },
     "metadata": {},
     "output_type": "display_data"
    }
   ],
   "source": [
    "%run setup.ipynb"
   ]
  },
  {
   "cell_type": "code",
   "execution_count": 2,
   "metadata": {},
   "outputs": [],
   "source": [
    "output_dir = '/home/joshjrey/Documents/mosquito_project/outputs/build_blocks'"
   ]
  },
  {
   "cell_type": "code",
   "execution_count": 3,
   "metadata": {},
   "outputs": [
    {
     "data": {
      "text/html": [
       "<table class='petl'>\n",
       "<thead>\n",
       "<tr>\n",
       "<th>0|seqid</th>\n",
       "<th>1|type</th>\n",
       "<th>2|start</th>\n",
       "<th>3|stop</th>\n",
       "<th>4|length</th>\n",
       "<th>5|strand</th>\n",
       "<th>6|phase</th>\n",
       "<th>7|parent</th>\n",
       "<th>8|ID</th>\n",
       "<th>9|n_children</th>\n",
       "<th>10|transcript_length</th>\n",
       "<th>11|is_canonical</th>\n",
       "<th>12|is_first</th>\n",
       "<th>13|is_last</th>\n",
       "</tr>\n",
       "</thead>\n",
       "<tbody>\n",
       "<tr>\n",
       "<td>2L</td>\n",
       "<td>chromosome</td>\n",
       "<td style='text-align: right'>0</td>\n",
       "<td style='text-align: right'>49364325</td>\n",
       "<td style='text-align: right'>49364325</td>\n",
       "<td>.</td>\n",
       "<td>.</td>\n",
       "<td>None</td>\n",
       "<td>2L</td>\n",
       "<td style='text-align: right'>0</td>\n",
       "<td>None</td>\n",
       "<td>None</td>\n",
       "<td>None</td>\n",
       "<td>None</td>\n",
       "</tr>\n",
       "<tr>\n",
       "<td>2L</td>\n",
       "<td>gene</td>\n",
       "<td style='text-align: right'>157347</td>\n",
       "<td style='text-align: right'>186936</td>\n",
       "<td style='text-align: right'>29589</td>\n",
       "<td>-</td>\n",
       "<td>.</td>\n",
       "<td>None</td>\n",
       "<td>AGAP004677</td>\n",
       "<td style='text-align: right'>2</td>\n",
       "<td>None</td>\n",
       "<td>None</td>\n",
       "<td>None</td>\n",
       "<td>None</td>\n",
       "</tr>\n",
       "<tr>\n",
       "<td>2L</td>\n",
       "<td>mRNA</td>\n",
       "<td style='text-align: right'>157347</td>\n",
       "<td style='text-align: right'>181305</td>\n",
       "<td style='text-align: right'>23958</td>\n",
       "<td>-</td>\n",
       "<td>.</td>\n",
       "<td>AGAP004677</td>\n",
       "<td>AGAP004677-RA</td>\n",
       "<td style='text-align: right'>10</td>\n",
       "<td style='text-align: right'>1467</td>\n",
       "<td>True</td>\n",
       "<td>None</td>\n",
       "<td>None</td>\n",
       "</tr>\n",
       "<tr>\n",
       "<td>2L</td>\n",
       "<td>mRNA</td>\n",
       "<td style='text-align: right'>157347</td>\n",
       "<td style='text-align: right'>186936</td>\n",
       "<td style='text-align: right'>29589</td>\n",
       "<td>-</td>\n",
       "<td>.</td>\n",
       "<td>AGAP004677</td>\n",
       "<td>AGAP004677-RB</td>\n",
       "<td style='text-align: right'>10</td>\n",
       "<td style='text-align: right'>1147</td>\n",
       "<td>False</td>\n",
       "<td>None</td>\n",
       "<td>None</td>\n",
       "</tr>\n",
       "<tr>\n",
       "<td>2L</td>\n",
       "<td>exon</td>\n",
       "<td style='text-align: right'>157347</td>\n",
       "<td style='text-align: right'>157623</td>\n",
       "<td style='text-align: right'>276</td>\n",
       "<td>-</td>\n",
       "<td>.</td>\n",
       "<td>AGAP004677-RA</td>\n",
       "<td>None</td>\n",
       "<td style='text-align: right'>0</td>\n",
       "<td>None</td>\n",
       "<td>True</td>\n",
       "<td>False</td>\n",
       "<td>True</td>\n",
       "</tr>\n",
       "</tbody>\n",
       "</table>\n",
       "<p><strong>...</strong></p>"
      ],
      "text/plain": [
       "+-------+--------------+--------+----------+----------+--------+-------+-----------------+-----------------+------------+-------------------+--------------+----------+---------+\n",
       "| seqid | type         | start  | stop     | length   | strand | phase | parent          | ID              | n_children | transcript_length | is_canonical | is_first | is_last |\n",
       "+=======+==============+========+==========+==========+========+=======+=================+=================+============+===================+==============+==========+=========+\n",
       "| '2L'  | 'chromosome' |      0 | 49364325 | 49364325 | '.'    | '.'   | None            | '2L'            |          0 | None              | None         | None     | None    |\n",
       "+-------+--------------+--------+----------+----------+--------+-------+-----------------+-----------------+------------+-------------------+--------------+----------+---------+\n",
       "| '2L'  | 'gene'       | 157347 |   186936 |    29589 | '-'    | '.'   | None            | 'AGAP004677'    |          2 | None              | None         | None     | None    |\n",
       "+-------+--------------+--------+----------+----------+--------+-------+-----------------+-----------------+------------+-------------------+--------------+----------+---------+\n",
       "| '2L'  | 'mRNA'       | 157347 |   181305 |    23958 | '-'    | '.'   | 'AGAP004677'    | 'AGAP004677-RA' |         10 |              1467 | True         | None     | None    |\n",
       "+-------+--------------+--------+----------+----------+--------+-------+-----------------+-----------------+------------+-------------------+--------------+----------+---------+\n",
       "| '2L'  | 'mRNA'       | 157347 |   186936 |    29589 | '-'    | '.'   | 'AGAP004677'    | 'AGAP004677-RB' |         10 |              1147 | False        | None     | None    |\n",
       "+-------+--------------+--------+----------+----------+--------+-------+-----------------+-----------------+------------+-------------------+--------------+----------+---------+\n",
       "| '2L'  | 'exon'       | 157347 |   157623 |      276 | '-'    | '.'   | 'AGAP004677-RA' | None            |          0 | None              | True         | False    | True    |\n",
       "+-------+--------------+--------+----------+----------+--------+-------+-----------------+-----------------+------------+-------------------+--------------+----------+---------+\n",
       "..."
      ]
     },
     "execution_count": 3,
     "metadata": {},
     "output_type": "execute_result"
    }
   ],
   "source": [
    "tbl_features = etl.frompickle(os.path.join(output_dir, 'tbl_features.pkl.gz'))\n",
    "tbl_features"
   ]
  },
  {
   "cell_type": "code",
   "execution_count": 4,
   "metadata": {
    "scrolled": true
   },
   "outputs": [
    {
     "data": {
      "text/plain": [
       "{'AAA': 'K',\n",
       " 'AAC': 'N',\n",
       " 'AAG': 'K',\n",
       " 'AAT': 'N',\n",
       " 'ACA': 'T',\n",
       " 'ACC': 'T',\n",
       " 'ACG': 'T',\n",
       " 'ACT': 'T',\n",
       " 'AGA': 'R',\n",
       " 'AGC': 'S',\n",
       " 'AGG': 'R',\n",
       " 'AGT': 'S',\n",
       " 'ATA': 'I',\n",
       " 'ATC': 'I',\n",
       " 'ATG': 'M',\n",
       " 'ATT': 'I',\n",
       " 'CAA': 'Q',\n",
       " 'CAC': 'H',\n",
       " 'CAG': 'Q',\n",
       " 'CAT': 'H',\n",
       " 'CCA': 'P',\n",
       " 'CCC': 'P',\n",
       " 'CCG': 'P',\n",
       " 'CCT': 'P',\n",
       " 'CGA': 'R',\n",
       " 'CGC': 'R',\n",
       " 'CGG': 'R',\n",
       " 'CGT': 'R',\n",
       " 'CTA': 'L',\n",
       " 'CTC': 'L',\n",
       " 'CTG': 'L',\n",
       " 'CTT': 'L',\n",
       " 'GAA': 'E',\n",
       " 'GAC': 'D',\n",
       " 'GAG': 'E',\n",
       " 'GAT': 'D',\n",
       " 'GCA': 'A',\n",
       " 'GCC': 'A',\n",
       " 'GCG': 'A',\n",
       " 'GCT': 'A',\n",
       " 'GGA': 'G',\n",
       " 'GGC': 'G',\n",
       " 'GGG': 'G',\n",
       " 'GGT': 'G',\n",
       " 'GTA': 'V',\n",
       " 'GTC': 'V',\n",
       " 'GTG': 'V',\n",
       " 'GTT': 'V',\n",
       " 'TAC': 'Y',\n",
       " 'TAT': 'Y',\n",
       " 'TCA': 'S',\n",
       " 'TCC': 'S',\n",
       " 'TCG': 'S',\n",
       " 'TCT': 'S',\n",
       " 'TGC': 'C',\n",
       " 'TGG': 'W',\n",
       " 'TGT': 'C',\n",
       " 'TTA': 'L',\n",
       " 'TTC': 'F',\n",
       " 'TTG': 'L',\n",
       " 'TTT': 'F'}"
      ]
     },
     "execution_count": 4,
     "metadata": {},
     "output_type": "execute_result"
    }
   ],
   "source": [
    "from Bio.Data import CodonTable\n",
    "standard_table = CodonTable.unambiguous_dna_by_name[\"Standard\"]\n",
    "standard_table.forward_table"
   ]
  },
  {
   "cell_type": "code",
   "execution_count": 5,
   "metadata": {},
   "outputs": [
    {
     "data": {
      "text/plain": [
       "<pyfasta.fasta.Fasta at 0x7fa16dd0fe48>"
      ]
     },
     "execution_count": 5,
     "metadata": {},
     "output_type": "execute_result"
    }
   ],
   "source": [
    "#genome = phase2_ar1.genome_agamp3\n",
    "#genome\n",
    "phase2_ar1.init(\"/home/joshjrey/Documents/mosquito_project/data/ag1k/phase2.AR1\")\n",
    "genome = phase2_ar1.genome_agamp3\n",
    "genome"
   ]
  },
  {
   "cell_type": "code",
   "execution_count": 14,
   "metadata": {},
   "outputs": [
    {
     "data": {
      "text/plain": [
       "<pyfasta.fasta.Fasta at 0x7f40d9d91c88>"
      ]
     },
     "execution_count": 14,
     "metadata": {},
     "output_type": "execute_result"
    }
   ],
   "source": [
    "genome"
   ]
  },
  {
   "cell_type": "code",
   "execution_count": 15,
   "metadata": {},
   "outputs": [
    {
     "data": {
      "text/plain": [
       "{'2L': array([-1, -1, -1, ..., -1, -1, -1], dtype=int8),\n",
       " '2R': array([-1, -1, -1, ..., -1, -1, -1], dtype=int8),\n",
       " '3L': array([-1, -1, -1, ..., -1, -1, -1], dtype=int8),\n",
       " '3R': array([-1, -1, -1, ..., -1, -1, -1], dtype=int8),\n",
       " 'UNKN': array([-1, -1, -1, ..., -1, -1, -1], dtype=int8),\n",
       " 'X': array([-1, -1, -1, ..., -1, -1, -1], dtype=int8),\n",
       " 'Y_unplaced': array([-1, -1, -1, ..., -1, -1, -1], dtype=int8)}"
      ]
     },
     "execution_count": 15,
     "metadata": {},
     "output_type": "execute_result"
    }
   ],
   "source": [
    "codon_degeneracy = {k: np.full(len(genome[k]), dtype='i1', fill_value=-1)\n",
    "                    for k in genome.keys()}\n",
    "codon_degeneracy"
   ]
  },
  {
   "cell_type": "code",
   "execution_count": 16,
   "metadata": {},
   "outputs": [
    {
     "data": {
      "text/plain": [
       "{'2L': array([-1, -1, -1, ..., -1, -1, -1], dtype=int8),\n",
       " '2R': array([-1, -1, -1, ..., -1, -1, -1], dtype=int8),\n",
       " '3L': array([-1, -1, -1, ..., -1, -1, -1], dtype=int8),\n",
       " '3R': array([-1, -1, -1, ..., -1, -1, -1], dtype=int8),\n",
       " 'UNKN': array([-1, -1, -1, ..., -1, -1, -1], dtype=int8),\n",
       " 'X': array([-1, -1, -1, ..., -1, -1, -1], dtype=int8),\n",
       " 'Y_unplaced': array([-1, -1, -1, ..., -1, -1, -1], dtype=int8)}"
      ]
     },
     "execution_count": 16,
     "metadata": {},
     "output_type": "execute_result"
    }
   ],
   "source": [
    "codon_position = {k: np.full(len(genome[k]), dtype='i1', fill_value=-1)\n",
    "                  for k in genome.keys()}\n",
    "codon_position"
   ]
  },
  {
   "cell_type": "code",
   "execution_count": 17,
   "metadata": {},
   "outputs": [
    {
     "data": {
      "text/plain": [
       "{'2L': array([0, 0, 0, ..., 0, 0, 0], dtype=uint8),\n",
       " '2R': array([0, 0, 0, ..., 0, 0, 0], dtype=uint8),\n",
       " '3L': array([0, 0, 0, ..., 0, 0, 0], dtype=uint8),\n",
       " '3R': array([0, 0, 0, ..., 0, 0, 0], dtype=uint8),\n",
       " 'UNKN': array([0, 0, 0, ..., 0, 0, 0], dtype=uint8),\n",
       " 'X': array([0, 0, 0, ..., 0, 0, 0], dtype=uint8),\n",
       " 'Y_unplaced': array([0, 0, 0, ..., 0, 0, 0], dtype=uint8)}"
      ]
     },
     "execution_count": 17,
     "metadata": {},
     "output_type": "execute_result"
    }
   ],
   "source": [
    "codon_nonsyn = {k: np.zeros(len(genome[k]), dtype='u1')\n",
    "                  for k in genome.keys()}\n",
    "codon_nonsyn"
   ]
  },
  {
   "cell_type": "code",
   "execution_count": 18,
   "metadata": {},
   "outputs": [
    {
     "data": {
      "text/plain": [
       "{'2L': array(['', '', '', ..., '', '', ''], dtype='<U1'),\n",
       " '2R': array(['', '', '', ..., '', '', ''], dtype='<U1'),\n",
       " '3L': array(['', '', '', ..., '', '', ''], dtype='<U1'),\n",
       " '3R': array(['', '', '', ..., '', '', ''], dtype='<U1'),\n",
       " 'UNKN': array(['', '', '', ..., '', '', ''], dtype='<U1'),\n",
       " 'X': array(['', '', '', ..., '', '', ''], dtype='<U1'),\n",
       " 'Y_unplaced': array(['', '', '', ..., '', '', ''], dtype='<U1')}"
      ]
     },
     "execution_count": 18,
     "metadata": {},
     "output_type": "execute_result"
    }
   ],
   "source": [
    "ref_all = {k: np.zeros(len(genome[k]), dtype='U')\n",
    "                  for k in genome.keys()}\n",
    "ref_all"
   ]
  },
  {
   "cell_type": "code",
   "execution_count": 20,
   "metadata": {},
   "outputs": [],
   "source": [
    "bases = ['A', 'C', 'T', 'G']\n",
    "codon_table = standard_table.forward_table.copy()\n",
    "for codon in standard_table.stop_codons:\n",
    "    codon_table[codon] = '*'"
   ]
  },
  {
   "cell_type": "code",
   "execution_count": 21,
   "metadata": {},
   "outputs": [],
   "source": [
    "from Bio.Seq import Seq"
   ]
  },
  {
   "cell_type": "code",
   "execution_count": 22,
   "metadata": {},
   "outputs": [],
   "source": [
    "for cds in tbl_features.eq('type', 'CDS').true('is_canonical').records():\n",
    "#     print(cds)\n",
    "    if cds.seqid not in genome:\n",
    "        continue\n",
    "    if cds.strand == '+':\n",
    "        seq = genome[cds.seqid][cds.start:cds.stop].upper()\n",
    "#         print(cds.phase, seq[:10])\n",
    "        phase = int(cds.phase)\n",
    "        for i in range(cds.length):\n",
    "            codon_pos = (i - phase) % 3\n",
    "            if codon_pos == 0:\n",
    "                codon_start = i\n",
    "                codon_stop = i+3\n",
    "            elif codon_pos == 1:\n",
    "                codon_start = i-1\n",
    "                codon_stop = i+2\n",
    "            elif codon_pos == 2:\n",
    "                codon_start = i-2\n",
    "                codon_stop = i+1\n",
    "            else:\n",
    "                raise RuntimeError('unexpected codon_pos', codon_pos)\n",
    "            if codon_start < 0:\n",
    "                continue\n",
    "            if codon_stop > cds.length:\n",
    "                continue\n",
    "            codon = seq[codon_start:codon_stop]\n",
    "            if 'N' not in codon:\n",
    "                codons = None\n",
    "                if codon_pos == 0:\n",
    "                    codons = [b + codon[1:] for b in bases]\n",
    "                elif codon_pos == 1:\n",
    "                    codons = [codon[0] + b + codon[2] for b in bases]\n",
    "                elif codon_pos == 2:\n",
    "                    codons = [codon[:2] + b for b in bases]\n",
    "                aas = [codon_table[c] for c in codons]\n",
    "                # assign degeneracy\n",
    "                aas_ct = collections.Counter(aas)\n",
    "                if len(aas_ct) == 1:\n",
    "                    # 4-fold degenerate\n",
    "                    deg = 4\n",
    "                elif len(aas_ct) == 4:\n",
    "                    # 0-fold degenerate\n",
    "                    deg = 1\n",
    "                elif len(aas_ct) == 2 and tuple(aas_ct.values()) == (2, 2):\n",
    "                    # simple 2-fold degenerate\n",
    "                    deg = 2\n",
    "                else:\n",
    "                    # complex 2-fold degenerate\n",
    "                    deg = 3\n",
    "                # assign number of nonsyn mutations\n",
    "                ref_aa = codon_table[codon]\n",
    "                alt_aa = [a for a in aas if a != ref_aa]\n",
    "                nonsyn = len(alt_aa)\n",
    "                codon_position[cds.seqid][cds.start + i] = codon_pos\n",
    "                codon_degeneracy[cds.seqid][cds.start + i] = deg\n",
    "                codon_nonsyn[cds.seqid][cds.start + i] = nonsyn\n",
    "                \n",
    "                \n",
    "#                 print(i, codon_pos, codon, codons, ref_aa, aas, deg, nonsyn)\n",
    "    else:\n",
    "        seq = genome[cds.seqid][cds.start:cds.stop].upper()\n",
    "        seq = str(Seq(seq).reverse_complement())\n",
    "#         print(cds.phase, seq[:10])\n",
    "        phase = int(cds.phase)\n",
    "        for i in range(cds.length):\n",
    "            codon_pos = (i - phase) % 3\n",
    "            if codon_pos == 0:\n",
    "                codon_start = i\n",
    "                codon_stop = i+3\n",
    "            elif codon_pos == 1:\n",
    "                codon_start = i-1\n",
    "                codon_stop = i+2\n",
    "            elif codon_pos == 2:\n",
    "                codon_start = i-2\n",
    "                codon_stop = i+1\n",
    "            else:\n",
    "                raise RuntimeError('unexpected codon_pos', codon_pos)\n",
    "            if codon_start < 0:\n",
    "                continue\n",
    "            if codon_stop > cds.length:\n",
    "                continue\n",
    "            codon = seq[codon_start:codon_stop]\n",
    "            if 'N' not in codon:\n",
    "                codons = None\n",
    "                if codon_pos == 0:\n",
    "                    codons = [b + codon[1:] for b in bases]\n",
    "                elif codon_pos == 1:\n",
    "                    codons = [codon[0] + b + codon[2] for b in bases]\n",
    "                elif codon_pos == 2:\n",
    "                    codons = [codon[:2] + b for b in bases]\n",
    "                aas = [codon_table[c] for c in codons]\n",
    "                # assign degeneracy\n",
    "                aas_ct = collections.Counter(aas)\n",
    "                if len(aas_ct) == 1:\n",
    "                    # 4-fold degenerate\n",
    "                    deg = 4\n",
    "                elif len(aas_ct) == 4:\n",
    "                    # 0-fold degenerate\n",
    "                    deg = 1\n",
    "                elif len(aas_ct) == 2 and tuple(aas_ct.values()) == (2, 2):\n",
    "                    # simple 2-fold degenerate\n",
    "                    deg = 2\n",
    "                else:\n",
    "                    # complex 2-fold degenerate\n",
    "                    deg = 3\n",
    "                # assign number of nonsyn mutations\n",
    "                ref_aa = codon_table[codon]\n",
    "                alt_aa = [a for a in aas if a != ref_aa]\n",
    "                nonsyn = len(alt_aa)\n",
    "                seq_index = cds.stop - i - 1\n",
    "                codon_position[cds.seqid][seq_index] = codon_pos\n",
    "                codon_degeneracy[cds.seqid][seq_index] = deg\n",
    "                codon_nonsyn[cds.seqid][seq_index] = nonsyn\n",
    "            \n",
    "#                 print(i, codon_pos, codon, codons, ref_aa, aas, deg, nonsyn, seq_index, genome[cds.seqid][seq_index])"
   ]
  },
  {
   "cell_type": "code",
   "execution_count": 23,
   "metadata": {},
   "outputs": [
    {
     "name": "stdout",
     "output_type": "stream",
     "text": [
      "3902104\n",
      "4672719\n",
      "4672719\n"
     ]
    }
   ],
   "source": [
    "print(np.sum(codon_nonsyn['2L']==1 )   + np.sum(codon_nonsyn['2L']==2) + np.sum(codon_nonsyn['2L']==3) )\n",
    "print(np.sum(codon_degeneracy['2L']!=-1) )\n",
    "print(np.sum(codon_position['2L']!=-1) )"
   ]
  },
  {
   "cell_type": "code",
   "execution_count": 24,
   "metadata": {},
   "outputs": [
    {
     "data": {
      "text/plain": [
       "[(0, 45462221), (1, 74840), (2, 812756), (3, 3014508)]"
      ]
     },
     "execution_count": 24,
     "metadata": {},
     "output_type": "execute_result"
    }
   ],
   "source": [
    "unique, counts = np.unique(codon_nonsyn['2L'], return_counts=True)\n",
    "list(zip(unique, counts))"
   ]
  },
  {
   "cell_type": "code",
   "execution_count": 25,
   "metadata": {},
   "outputs": [],
   "source": [
    "x = codon_position['3L']\n",
    "y = codon_degeneracy['3L']\n",
    "z = codon_nonsyn['3L']"
   ]
  },
  {
   "cell_type": "code",
   "execution_count": 26,
   "metadata": {},
   "outputs": [
    {
     "data": {
      "text/plain": [
       "array([-1, -1, -1, ..., -1, -1, -1], dtype=int8)"
      ]
     },
     "execution_count": 26,
     "metadata": {},
     "output_type": "execute_result"
    }
   ],
   "source": [
    "x"
   ]
  },
  {
   "cell_type": "code",
   "execution_count": 27,
   "metadata": {},
   "outputs": [
    {
     "data": {
      "text/plain": [
       "array([-1, -1, -1, ..., -1, -1, -1], dtype=int8)"
      ]
     },
     "execution_count": 27,
     "metadata": {},
     "output_type": "execute_result"
    }
   ],
   "source": [
    "y"
   ]
  },
  {
   "cell_type": "code",
   "execution_count": 28,
   "metadata": {},
   "outputs": [
    {
     "data": {
      "text/plain": [
       "array([1062487, 1062488, 1062487])"
      ]
     },
     "execution_count": 28,
     "metadata": {},
     "output_type": "execute_result"
    }
   ],
   "source": [
    "np.bincount(x[x >= 0])"
   ]
  },
  {
   "cell_type": "code",
   "execution_count": 29,
   "metadata": {},
   "outputs": [
    {
     "data": {
      "text/plain": [
       "array([     0, 844943,      0, 217544])"
      ]
     },
     "execution_count": 29,
     "metadata": {},
     "output_type": "execute_result"
    }
   ],
   "source": [
    "np.bincount(y[x == 0])"
   ]
  },
  {
   "cell_type": "code",
   "execution_count": 30,
   "metadata": {},
   "outputs": [
    {
     "data": {
      "text/plain": [
       "array([      0, 1050109,       0,   12379])"
      ]
     },
     "execution_count": 30,
     "metadata": {},
     "output_type": "execute_result"
    }
   ],
   "source": [
    "np.bincount(y[x == 1])"
   ]
  },
  {
   "cell_type": "code",
   "execution_count": 31,
   "metadata": {},
   "outputs": [
    {
     "data": {
      "text/plain": [
       "array([     0,      0, 431446, 111630, 519411])"
      ]
     },
     "execution_count": 31,
     "metadata": {},
     "output_type": "execute_result"
    }
   ],
   "source": [
    "np.bincount(y[x == 2])"
   ]
  },
  {
   "cell_type": "code",
   "execution_count": 32,
   "metadata": {},
   "outputs": [
    {
     "data": {
      "text/plain": [
       "array([     0,      0, 105086, 957401])"
      ]
     },
     "execution_count": 32,
     "metadata": {},
     "output_type": "execute_result"
    }
   ],
   "source": [
    "np.bincount(z[x == 0])"
   ]
  },
  {
   "cell_type": "code",
   "execution_count": 33,
   "metadata": {},
   "outputs": [
    {
     "data": {
      "text/plain": [
       "array([      0,       0,    1327, 1061161])"
      ]
     },
     "execution_count": 33,
     "metadata": {},
     "output_type": "execute_result"
    }
   ],
   "source": [
    "np.bincount(z[x == 1])"
   ]
  },
  {
   "cell_type": "code",
   "execution_count": 34,
   "metadata": {},
   "outputs": [
    {
     "data": {
      "text/plain": [
       "array([519411,  53242, 454068,  35766])"
      ]
     },
     "execution_count": 34,
     "metadata": {},
     "output_type": "execute_result"
    }
   ],
   "source": [
    "np.bincount(z[x == 2])"
   ]
  },
  {
   "cell_type": "code",
   "execution_count": 35,
   "metadata": {},
   "outputs": [],
   "source": [
    "zarr.save_group(os.path.join(output_dir, 'codon_position.zarr.zip'), \n",
    "                **codon_position)\n",
    "zarr.save_group(os.path.join(output_dir, 'codon_degeneracy.zarr.zip'), \n",
    "                **codon_degeneracy)\n",
    "zarr.save_group(os.path.join(output_dir, 'codon_nonsyn.zarr.zip'), \n",
    "                **codon_nonsyn)\n"
   ]
  },
  {
   "cell_type": "code",
   "execution_count": null,
   "metadata": {},
   "outputs": [],
   "source": []
  }
 ],
 "metadata": {
  "kernelspec": {
   "display_name": "Mos-proj",
   "language": "python",
   "name": "mos-proj"
  },
  "language_info": {
   "codemirror_mode": {
    "name": "ipython",
    "version": 3
   },
   "file_extension": ".py",
   "mimetype": "text/x-python",
   "name": "python",
   "nbconvert_exporter": "python",
   "pygments_lexer": "ipython3",
   "version": "3.6.8"
  }
 },
 "nbformat": 4,
 "nbformat_minor": 2
}
