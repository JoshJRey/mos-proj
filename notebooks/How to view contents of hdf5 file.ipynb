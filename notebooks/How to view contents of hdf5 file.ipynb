{
 "cells": [
  {
   "cell_type": "markdown",
   "metadata": {},
   "source": [
    "## How to view the contents of hdf5 files"
   ]
  },
  {
   "cell_type": "markdown",
   "metadata": {},
   "source": [
    "First, import the relevant modules and load data."
   ]
  },
  {
   "cell_type": "code",
   "execution_count": 2,
   "metadata": {},
   "outputs": [],
   "source": [
    "import h5py\n",
    "import allel"
   ]
  },
  {
   "cell_type": "code",
   "execution_count": 3,
   "metadata": {},
   "outputs": [],
   "source": [
    "callset = h5py.File('../data/phase1/hdf5/ag1000g.phase1.ar3.pass.h5', mode='r')\n"
   ]
  },
  {
   "cell_type": "markdown",
   "metadata": {},
   "source": [
    "Now, choose a chromosome arm to work with. To see all available arms, use the .keys() function to look at the keys. From what I understand, these represent all the subdivisions of a hdf5 file, sort of like a hierarchial directory structure. In this case, the highest level is the chromosome to be investigated. Here I'll use 3L."
   ]
  },
  {
   "cell_type": "code",
   "execution_count": 4,
   "metadata": {},
   "outputs": [
    {
     "data": {
      "text/plain": [
       "['2L', '2R', '3L', '3R', 'X']"
      ]
     },
     "execution_count": 4,
     "metadata": {},
     "output_type": "execute_result"
    }
   ],
   "source": [
    "sorted(callset.keys())"
   ]
  },
  {
   "cell_type": "markdown",
   "metadata": {},
   "source": [
    "Note: the same output can be generated without the .keys() function. I'm not sure what this really adds, but Alastair used it originally when talking about VCFs."
   ]
  },
  {
   "cell_type": "code",
   "execution_count": 5,
   "metadata": {},
   "outputs": [],
   "source": [
    "chrom = '3L'"
   ]
  },
  {
   "cell_type": "markdown",
   "metadata": {},
   "source": [
    "Now that we've chosen a chromosome, lets see what the next level of subdivisions of data are that lie under this. To do this, we'll look at subsets of our data using square brackets []."
   ]
  },
  {
   "cell_type": "code",
   "execution_count": 6,
   "metadata": {},
   "outputs": [
    {
     "data": {
      "text/plain": [
       "['calldata', 'samples', 'variants']"
      ]
     },
     "execution_count": 6,
     "metadata": {},
     "output_type": "execute_result"
    }
   ],
   "source": [
    "sorted(callset[chrom])"
   ]
  },
  {
   "cell_type": "markdown",
   "metadata": {},
   "source": [
    "This reveals that there are three categories of data in these files: 'variants', 'calldata', and 'samples'. To further explore the contents of these, we need to then use another pair of square brackets after the first, and this continues for each level of data you want to access. This is different to VCF files, which use '/' between each level, all contained in one set of square brackets. For example, variant data is as follows:"
   ]
  },
  {
   "cell_type": "code",
   "execution_count": 7,
   "metadata": {},
   "outputs": [
    {
     "data": {
      "text/plain": [
       "['ABHet',\n",
       " 'ABHom',\n",
       " 'AC',\n",
       " 'AF',\n",
       " 'ALT',\n",
       " 'AN',\n",
       " 'ANN',\n",
       " 'Accessible',\n",
       " 'BaseCounts',\n",
       " 'BaseQRankSum',\n",
       " 'CHROM',\n",
       " 'Coverage',\n",
       " 'CoverageMQ0',\n",
       " 'DP',\n",
       " 'DS',\n",
       " 'Dels',\n",
       " 'FILTER_FS',\n",
       " 'FILTER_HRun',\n",
       " 'FILTER_HighCoverage',\n",
       " 'FILTER_HighMQ0',\n",
       " 'FILTER_LowCoverage',\n",
       " 'FILTER_LowMQ',\n",
       " 'FILTER_LowQual',\n",
       " 'FILTER_NoCoverage',\n",
       " 'FILTER_PASS',\n",
       " 'FILTER_QD',\n",
       " 'FILTER_ReadPosRankSum',\n",
       " 'FILTER_RefN',\n",
       " 'FILTER_RepeatDUST',\n",
       " 'FS',\n",
       " 'HRun',\n",
       " 'HW',\n",
       " 'HaplotypeScore',\n",
       " 'HighCoverage',\n",
       " 'HighMQ0',\n",
       " 'InbreedingCoeff',\n",
       " 'LOF',\n",
       " 'LowCoverage',\n",
       " 'LowMQ',\n",
       " 'LowPairing',\n",
       " 'MLEAC',\n",
       " 'MLEAF',\n",
       " 'MQ',\n",
       " 'MQ0',\n",
       " 'MQRankSum',\n",
       " 'NDA',\n",
       " 'NMD',\n",
       " 'NoCoverage',\n",
       " 'OND',\n",
       " 'POS',\n",
       " 'QD',\n",
       " 'QUAL',\n",
       " 'REF',\n",
       " 'RPA',\n",
       " 'RU',\n",
       " 'ReadPosRankSum',\n",
       " 'RefMasked',\n",
       " 'RefN',\n",
       " 'RepeatDUST',\n",
       " 'RepeatMasker',\n",
       " 'RepeatTRF',\n",
       " 'STR',\n",
       " 'VariantType',\n",
       " 'is_snp',\n",
       " 'num_alleles',\n",
       " 'svlen']"
      ]
     },
     "execution_count": 7,
     "metadata": {},
     "output_type": "execute_result"
    }
   ],
   "source": [
    "sorted(callset[chrom]['variants'])"
   ]
  },
  {
   "cell_type": "markdown",
   "metadata": {},
   "source": [
    "As you can see, this is where the 'Accessible' data is hidden away! To confirm that we can access it, use the following:"
   ]
  },
  {
   "cell_type": "code",
   "execution_count": 8,
   "metadata": {},
   "outputs": [
    {
     "data": {
      "text/plain": [
       "<HDF5 dataset \"Accessible\": shape (9643193,), type \"|b1\">"
      ]
     },
     "execution_count": 8,
     "metadata": {},
     "output_type": "execute_result"
    }
   ],
   "source": [
    "callset[chrom]['variants']['Accessible']"
   ]
  },
  {
   "cell_type": "markdown",
   "metadata": {},
   "source": [
    "From here, we should be able to sort and remove all those that are not accessible - I'm not sure how yet! Note that if you're doing this directly from a chromosome file e.g. 3L, not the main .h5, you still need to specify the chromosome arm first, as that is still the first level of the data structure."
   ]
  }
 ],
 "metadata": {
  "kernelspec": {
   "display_name": "Python 3",
   "language": "python",
   "name": "python3"
  },
  "language_info": {
   "codemirror_mode": {
    "name": "ipython",
    "version": 3
   },
   "file_extension": ".py",
   "mimetype": "text/x-python",
   "name": "python",
   "nbconvert_exporter": "python",
   "pygments_lexer": "ipython3",
   "version": "3.6.8"
  }
 },
 "nbformat": 4,
 "nbformat_minor": 2
}
