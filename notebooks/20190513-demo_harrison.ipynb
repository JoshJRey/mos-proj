{
 "cells": [
  {
   "cell_type": "code",
   "execution_count": 1,
   "metadata": {},
   "outputs": [],
   "source": [
    "import zarr\n",
    "import allel"
   ]
  },
  {
   "cell_type": "code",
   "execution_count": 2,
   "metadata": {},
   "outputs": [],
   "source": [
    "callset = zarr.open(\"../phase2.AR1/variation/main/zarr2/ag1000g.phase2.ar1\")"
   ]
  },
  {
   "cell_type": "code",
   "execution_count": 3,
   "metadata": {},
   "outputs": [
    {
     "data": {
      "text/html": [
       "<link rel=\"stylesheet\" href=\"//cdnjs.cloudflare.com/ajax/libs/jstree/3.3.3/themes/default/style.min.css\"/><div id=\"ceba18b7-466d-492d-9dc9-c3973c629d15\" class=\"zarr-tree\"><ul><li data-jstree='{\"type\": \"Group\"}' class='jstree-open'><span>/</span><ul><li data-jstree='{\"type\": \"Group\"}' class=''><span>2L</span><ul><li data-jstree='{\"type\": \"Group\"}' class=''><span>calldata</span><ul><li data-jstree='{\"type\": \"Array\"}' class=''><span>AD (8906423, 1142, 4) uint16</span></li><li data-jstree='{\"type\": \"Array\"}' class=''><span>GQ (8906423, 1142) uint8</span></li><li data-jstree='{\"type\": \"Array\"}' class=''><span>genotype (8906423, 1142, 2) int8</span></li></ul></li><li data-jstree='{\"type\": \"Group\"}' class=''><span>variants</span><ul><li data-jstree='{\"type\": \"Array\"}' class=''><span>ALT (21442865, 3) |S1</span></li><li data-jstree='{\"type\": \"Array\"}' class=''><span>FILTER_PASS (21442865,) bool</span></li><li data-jstree='{\"type\": \"Array\"}' class=''><span>POS (21442865,) int32</span></li><li data-jstree='{\"type\": \"Array\"}' class=''><span>REF (21442865,) |S1</span></li></ul></li></ul></li><li data-jstree='{\"type\": \"Group\"}' class=''><span>2R</span><ul><li data-jstree='{\"type\": \"Group\"}' class=''><span>variants</span><ul><li data-jstree='{\"type\": \"Array\"}' class=''><span>ALT (24767689, 3) |S1</span></li><li data-jstree='{\"type\": \"Array\"}' class=''><span>FILTER_PASS (24767689,) bool</span></li><li data-jstree='{\"type\": \"Array\"}' class=''><span>POS (24767689,) int32</span></li><li data-jstree='{\"type\": \"Array\"}' class=''><span>REF (24767689,) |S1</span></li></ul></li></ul></li><li data-jstree='{\"type\": \"Group\"}' class=''><span>3L</span><ul><li data-jstree='{\"type\": \"Group\"}' class=''><span>calldata</span><ul><li data-jstree='{\"type\": \"Array\"}' class=''><span>genotype (18167056, 1142, 2) int8</span></li></ul></li><li data-jstree='{\"type\": \"Group\"}' class=''><span>variants</span><ul><li data-jstree='{\"type\": \"Array\"}' class=''><span>ALT (18167056, 3) |S1</span></li><li data-jstree='{\"type\": \"Array\"}' class=''><span>FILTER_PASS (18167056,) bool</span></li><li data-jstree='{\"type\": \"Array\"}' class=''><span>POS (18167056,) int32</span></li><li data-jstree='{\"type\": \"Array\"}' class=''><span>REF (18167056,) |S1</span></li></ul></li></ul></li><li data-jstree='{\"type\": \"Group\"}' class=''><span>3R</span><ul><li data-jstree='{\"type\": \"Group\"}' class=''><span>variants</span><ul><li data-jstree='{\"type\": \"Array\"}' class=''><span>ALT (24943504, 3) |S1</span></li><li data-jstree='{\"type\": \"Array\"}' class=''><span>FILTER_PASS (24943504,) bool</span></li><li data-jstree='{\"type\": \"Array\"}' class=''><span>POS (24943504,) int32</span></li><li data-jstree='{\"type\": \"Array\"}' class=''><span>REF (24943504,) |S1</span></li></ul></li></ul></li><li data-jstree='{\"type\": \"Group\"}' class=''><span>UNKN</span><ul><li data-jstree='{\"type\": \"Group\"}' class=''><span>variants</span><ul><li data-jstree='{\"type\": \"Array\"}' class=''><span>ALT (6759497, 3) |S1</span></li><li data-jstree='{\"type\": \"Array\"}' class=''><span>FILTER_PASS (6759497,) bool</span></li><li data-jstree='{\"type\": \"Array\"}' class=''><span>POS (6759497,) int32</span></li><li data-jstree='{\"type\": \"Array\"}' class=''><span>REF (6759497,) |S1</span></li></ul></li></ul></li><li data-jstree='{\"type\": \"Group\"}' class=''><span>X</span><ul><li data-jstree='{\"type\": \"Group\"}' class=''><span>variants</span><ul><li data-jstree='{\"type\": \"Array\"}' class=''><span>ALT (9389639, 3) |S1</span></li><li data-jstree='{\"type\": \"Array\"}' class=''><span>FILTER_PASS (9389639,) bool</span></li><li data-jstree='{\"type\": \"Array\"}' class=''><span>POS (9389639,) int32</span></li><li data-jstree='{\"type\": \"Array\"}' class=''><span>REF (9389639,) |S1</span></li></ul></li></ul></li><li data-jstree='{\"type\": \"Group\"}' class=''><span>Y_unplaced</span><ul><li data-jstree='{\"type\": \"Group\"}' class=''><span>variants</span><ul><li data-jstree='{\"type\": \"Array\"}' class=''><span>ALT (16448, 3) |S1</span></li><li data-jstree='{\"type\": \"Array\"}' class=''><span>FILTER_PASS (16448,) bool</span></li><li data-jstree='{\"type\": \"Array\"}' class=''><span>POS (16448,) int32</span></li><li data-jstree='{\"type\": \"Array\"}' class=''><span>REF (16448,) |S1</span></li></ul></li></ul></li><li data-jstree='{\"type\": \"Array\"}' class=''><span>samples (1142,) |S8</span></li></ul></li></ul></div>\n",
       "<script>\n",
       "    if (!require.defined('jquery')) {\n",
       "        require.config({\n",
       "            paths: {\n",
       "                jquery: '//cdnjs.cloudflare.com/ajax/libs/jquery/1.12.1/jquery.min'\n",
       "            },\n",
       "        });\n",
       "    }\n",
       "    if (!require.defined('jstree')) {\n",
       "        require.config({\n",
       "            paths: {\n",
       "                jstree: '//cdnjs.cloudflare.com/ajax/libs/jstree/3.3.3/jstree.min'\n",
       "            },\n",
       "        });\n",
       "    }\n",
       "    require(['jstree'], function() {\n",
       "        $('#ceba18b7-466d-492d-9dc9-c3973c629d15').jstree({\n",
       "            types: {\n",
       "                Group: {\n",
       "                    icon: \"fa fa-folder\"\n",
       "                },\n",
       "                Array: {\n",
       "                    icon: \"fa fa-table\"\n",
       "                }\n",
       "            },\n",
       "            plugins: [\"types\"]\n",
       "        });\n",
       "    });\n",
       "</script>\n"
      ],
      "text/plain": [
       "/\n",
       " ├── 2L\n",
       " │   ├── calldata\n",
       " │   │   ├── AD (8906423, 1142, 4) uint16\n",
       " │   │   ├── GQ (8906423, 1142) uint8\n",
       " │   │   └── genotype (8906423, 1142, 2) int8\n",
       " │   └── variants\n",
       " │       ├── ALT (21442865, 3) |S1\n",
       " │       ├── FILTER_PASS (21442865,) bool\n",
       " │       ├── POS (21442865,) int32\n",
       " │       └── REF (21442865,) |S1\n",
       " ├── 2R\n",
       " │   └── variants\n",
       " │       ├── ALT (24767689, 3) |S1\n",
       " │       ├── FILTER_PASS (24767689,) bool\n",
       " │       ├── POS (24767689,) int32\n",
       " │       └── REF (24767689,) |S1\n",
       " ├── 3L\n",
       " │   ├── calldata\n",
       " │   │   └── genotype (18167056, 1142, 2) int8\n",
       " │   └── variants\n",
       " │       ├── ALT (18167056, 3) |S1\n",
       " │       ├── FILTER_PASS (18167056,) bool\n",
       " │       ├── POS (18167056,) int32\n",
       " │       └── REF (18167056,) |S1\n",
       " ├── 3R\n",
       " │   └── variants\n",
       " │       ├── ALT (24943504, 3) |S1\n",
       " │       ├── FILTER_PASS (24943504,) bool\n",
       " │       ├── POS (24943504,) int32\n",
       " │       └── REF (24943504,) |S1\n",
       " ├── UNKN\n",
       " │   └── variants\n",
       " │       ├── ALT (6759497, 3) |S1\n",
       " │       ├── FILTER_PASS (6759497,) bool\n",
       " │       ├── POS (6759497,) int32\n",
       " │       └── REF (6759497,) |S1\n",
       " ├── X\n",
       " │   └── variants\n",
       " │       ├── ALT (9389639, 3) |S1\n",
       " │       ├── FILTER_PASS (9389639,) bool\n",
       " │       ├── POS (9389639,) int32\n",
       " │       └── REF (9389639,) |S1\n",
       " ├── Y_unplaced\n",
       " │   └── variants\n",
       " │       ├── ALT (16448, 3) |S1\n",
       " │       ├── FILTER_PASS (16448,) bool\n",
       " │       ├── POS (16448,) int32\n",
       " │       └── REF (16448,) |S1\n",
       " └── samples (1142,) |S8"
      ]
     },
     "execution_count": 3,
     "metadata": {},
     "output_type": "execute_result"
    }
   ],
   "source": [
    "callset.tree()"
   ]
  },
  {
   "cell_type": "code",
   "execution_count": 4,
   "metadata": {},
   "outputs": [],
   "source": [
    "chrom=\"2L\""
   ]
  },
  {
   "cell_type": "code",
   "execution_count": 5,
   "metadata": {},
   "outputs": [
    {
     "data": {
      "text/plain": [
       "<zarr.core.Array '/2L/variants/POS' (21442865,) int32>"
      ]
     },
     "execution_count": 5,
     "metadata": {},
     "output_type": "execute_result"
    }
   ],
   "source": [
    "callset[chrom][\"variants/POS\"]"
   ]
  },
  {
   "cell_type": "code",
   "execution_count": 6,
   "metadata": {},
   "outputs": [],
   "source": [
    "pos = allel.SortedIndex(callset[chrom][\"variants/POS\"])"
   ]
  },
  {
   "cell_type": "code",
   "execution_count": 7,
   "metadata": {},
   "outputs": [
    {
     "data": {
      "text/html": [
       "<div class=\"allel allel-DisplayAs1D\"><span>&lt;SortedIndex shape=(21442865,) dtype=int32&gt;</span><table><thead><tr><th style=\"text-align: center\">0</th><th style=\"text-align: center\">1</th><th style=\"text-align: center\">2</th><th style=\"text-align: center\">3</th><th style=\"text-align: center\">4</th><th style=\"text-align: center\">...</th><th style=\"text-align: center\">21442860</th><th style=\"text-align: center\">21442861</th><th style=\"text-align: center\">21442862</th><th style=\"text-align: center\">21442863</th><th style=\"text-align: center\">21442864</th></tr></thead><tbody><tr><td style=\"text-align: center\">20</td><td style=\"text-align: center\">103</td><td style=\"text-align: center\">163</td><td style=\"text-align: center\">174</td><td style=\"text-align: center\">177</td><td style=\"text-align: center\">...</td><td style=\"text-align: center\">49361766</td><td style=\"text-align: center\">49361791</td><td style=\"text-align: center\">49361815</td><td style=\"text-align: center\">49362329</td><td style=\"text-align: center\">49362335</td></tr></tbody></table></div>"
      ],
      "text/plain": [
       "<SortedIndex shape=(21442865,) dtype=int32>\n",
       "[20, 103, 163, 174, 177, ..., 49361766, 49361791, 49361815, 49362329, 49362335]"
      ]
     },
     "execution_count": 7,
     "metadata": {},
     "output_type": "execute_result"
    }
   ],
   "source": [
    "pos"
   ]
  },
  {
   "cell_type": "code",
   "execution_count": 8,
   "metadata": {},
   "outputs": [],
   "source": [
    "loc = pos.locate_range(10000, 200000)"
   ]
  },
  {
   "cell_type": "code",
   "execution_count": 9,
   "metadata": {},
   "outputs": [
    {
     "data": {
      "text/plain": [
       "slice(1421, 25390, None)"
      ]
     },
     "execution_count": 9,
     "metadata": {},
     "output_type": "execute_result"
    }
   ],
   "source": [
    "loc"
   ]
  },
  {
   "cell_type": "markdown",
   "metadata": {},
   "source": [
    "Can use this to filter genotype data"
   ]
  },
  {
   "cell_type": "markdown",
   "metadata": {},
   "source": [
    "# Genotypes"
   ]
  },
  {
   "cell_type": "code",
   "execution_count": 10,
   "metadata": {},
   "outputs": [],
   "source": [
    "g = allel.GenotypeDaskArray(callset[\"3L/calldata/genotype\"])"
   ]
  },
  {
   "cell_type": "code",
   "execution_count": 13,
   "metadata": {},
   "outputs": [
    {
     "data": {
      "text/html": [
       "<div class=\"allel allel-DisplayAs2D\"><span>&lt;GenotypeDaskArray shape=(18167056, 1142, 2) dtype=int8&gt;</span><table><thead><tr><th></th><th style=\"text-align: center\">0</th><th style=\"text-align: center\">1</th><th style=\"text-align: center\">2</th><th style=\"text-align: center\">3</th><th style=\"text-align: center\">4</th><th style=\"text-align: center\">...</th><th style=\"text-align: center\">1137</th><th style=\"text-align: center\">1138</th><th style=\"text-align: center\">1139</th><th style=\"text-align: center\">1140</th><th style=\"text-align: center\">1141</th></tr></thead><tbody><tr><th style=\"text-align: center; background-color: white; border-right: 1px solid black; \">0</th><td style=\"text-align: center\">./.</td><td style=\"text-align: center\">./.</td><td style=\"text-align: center\">./.</td><td style=\"text-align: center\">./.</td><td style=\"text-align: center\">./.</td><td style=\"text-align: center\">...</td><td style=\"text-align: center\">./.</td><td style=\"text-align: center\">./.</td><td style=\"text-align: center\">./.</td><td style=\"text-align: center\">./.</td><td style=\"text-align: center\">./.</td></tr><tr><th style=\"text-align: center; background-color: white; border-right: 1px solid black; \">1</th><td style=\"text-align: center\">./.</td><td style=\"text-align: center\">./.</td><td style=\"text-align: center\">./.</td><td style=\"text-align: center\">./.</td><td style=\"text-align: center\">./.</td><td style=\"text-align: center\">...</td><td style=\"text-align: center\">./.</td><td style=\"text-align: center\">./.</td><td style=\"text-align: center\">./.</td><td style=\"text-align: center\">./.</td><td style=\"text-align: center\">./.</td></tr><tr><th style=\"text-align: center; background-color: white; border-right: 1px solid black; \">2</th><td style=\"text-align: center\">./.</td><td style=\"text-align: center\">./.</td><td style=\"text-align: center\">./.</td><td style=\"text-align: center\">./.</td><td style=\"text-align: center\">./.</td><td style=\"text-align: center\">...</td><td style=\"text-align: center\">./.</td><td style=\"text-align: center\">./.</td><td style=\"text-align: center\">./.</td><td style=\"text-align: center\">./.</td><td style=\"text-align: center\">./.</td></tr><tr><th style=\"text-align: center; background-color: white; border-right: 1px solid black; \">...</th><td style=\"text-align: center\" colspan=\"12\">...</td></tr><tr><th style=\"text-align: center; background-color: white; border-right: 1px solid black; \">18167053</th><td style=\"text-align: center\">./.</td><td style=\"text-align: center\">0/0</td><td style=\"text-align: center\">./.</td><td style=\"text-align: center\">0/0</td><td style=\"text-align: center\">0/0</td><td style=\"text-align: center\">...</td><td style=\"text-align: center\">0/0</td><td style=\"text-align: center\">0/0</td><td style=\"text-align: center\">0/0</td><td style=\"text-align: center\">0/0</td><td style=\"text-align: center\">0/0</td></tr><tr><th style=\"text-align: center; background-color: white; border-right: 1px solid black; \">18167054</th><td style=\"text-align: center\">./.</td><td style=\"text-align: center\">0/0</td><td style=\"text-align: center\">./.</td><td style=\"text-align: center\">./.</td><td style=\"text-align: center\">./.</td><td style=\"text-align: center\">...</td><td style=\"text-align: center\">0/0</td><td style=\"text-align: center\">./.</td><td style=\"text-align: center\">./.</td><td style=\"text-align: center\">0/0</td><td style=\"text-align: center\">./.</td></tr><tr><th style=\"text-align: center; background-color: white; border-right: 1px solid black; \">18167055</th><td style=\"text-align: center\">./.</td><td style=\"text-align: center\">./.</td><td style=\"text-align: center\">./.</td><td style=\"text-align: center\">./.</td><td style=\"text-align: center\">./.</td><td style=\"text-align: center\">...</td><td style=\"text-align: center\">./.</td><td style=\"text-align: center\">./.</td><td style=\"text-align: center\">./.</td><td style=\"text-align: center\">0/0</td><td style=\"text-align: center\">./.</td></tr></tbody></table></div>"
      ],
      "text/plain": [
       "<GenotypeDaskArray shape=(18167056, 1142, 2) dtype=int8>"
      ]
     },
     "execution_count": 13,
     "metadata": {},
     "output_type": "execute_result"
    }
   ],
   "source": [
    "g"
   ]
  },
  {
   "cell_type": "code",
   "execution_count": 11,
   "metadata": {},
   "outputs": [
    {
     "data": {
      "text/html": [
       "<div class=\"allel allel-DisplayAs2D\"><span>&lt;AlleleCountsDaskArray shape=(18167056, 4) dtype=int32&gt;</span><table><thead><tr><th></th><th style=\"text-align: center\">0</th><th style=\"text-align: center\">1</th><th style=\"text-align: center\">2</th><th style=\"text-align: center\">3</th></tr></thead><tbody><tr><th style=\"text-align: center; background-color: white; border-right: 1px solid black; \">0</th><td style=\"text-align: center\">0</td><td style=\"text-align: center\">2</td><td style=\"text-align: center\">0</td><td style=\"text-align: center\">0</td></tr><tr><th style=\"text-align: center; background-color: white; border-right: 1px solid black; \">1</th><td style=\"text-align: center\">2</td><td style=\"text-align: center\">2</td><td style=\"text-align: center\">0</td><td style=\"text-align: center\">0</td></tr><tr><th style=\"text-align: center; background-color: white; border-right: 1px solid black; \">2</th><td style=\"text-align: center\">2</td><td style=\"text-align: center\">2</td><td style=\"text-align: center\">0</td><td style=\"text-align: center\">0</td></tr><tr><th style=\"text-align: center; background-color: white; border-right: 1px solid black; \">...</th><td style=\"text-align: center\" colspan=\"5\">...</td></tr><tr><th style=\"text-align: center; background-color: white; border-right: 1px solid black; \">18167053</th><td style=\"text-align: center\">1529</td><td style=\"text-align: center\">   3</td><td style=\"text-align: center\">   0</td><td style=\"text-align: center\">   0</td></tr><tr><th style=\"text-align: center; background-color: white; border-right: 1px solid black; \">18167054</th><td style=\"text-align: center\"> 496</td><td style=\"text-align: center\">   4</td><td style=\"text-align: center\">   0</td><td style=\"text-align: center\">   0</td></tr><tr><th style=\"text-align: center; background-color: white; border-right: 1px solid black; \">18167055</th><td style=\"text-align: center\"> 224</td><td style=\"text-align: center\">   6</td><td style=\"text-align: center\">   0</td><td style=\"text-align: center\">   0</td></tr></tbody></table></div>"
      ],
      "text/plain": [
       "<AlleleCountsDaskArray shape=(18167056, 4) dtype=int32>"
      ]
     },
     "execution_count": 11,
     "metadata": {},
     "output_type": "execute_result"
    }
   ],
   "source": [
    "ac = g.count_alleles()\n",
    "ac"
   ]
  },
  {
   "cell_type": "code",
   "execution_count": 12,
   "metadata": {},
   "outputs": [
    {
     "data": {
      "text/html": [
       "<div class=\"allel allel-DisplayAs2D\"><span>&lt;GenotypeDaskArray shape=(23969, 1142, 2) dtype=int8&gt;</span><table><thead><tr><th></th><th style=\"text-align: center\">0</th><th style=\"text-align: center\">1</th><th style=\"text-align: center\">2</th><th style=\"text-align: center\">3</th><th style=\"text-align: center\">4</th><th style=\"text-align: center\">...</th><th style=\"text-align: center\">1137</th><th style=\"text-align: center\">1138</th><th style=\"text-align: center\">1139</th><th style=\"text-align: center\">1140</th><th style=\"text-align: center\">1141</th></tr></thead><tbody><tr><th style=\"text-align: center; background-color: white; border-right: 1px solid black; \">0</th><td style=\"text-align: center\">0/0</td><td style=\"text-align: center\">0/0</td><td style=\"text-align: center\">0/0</td><td style=\"text-align: center\">0/0</td><td style=\"text-align: center\">0/0</td><td style=\"text-align: center\">...</td><td style=\"text-align: center\">0/0</td><td style=\"text-align: center\">0/0</td><td style=\"text-align: center\">0/0</td><td style=\"text-align: center\">0/0</td><td style=\"text-align: center\">0/0</td></tr><tr><th style=\"text-align: center; background-color: white; border-right: 1px solid black; \">1</th><td style=\"text-align: center\">0/0</td><td style=\"text-align: center\">0/0</td><td style=\"text-align: center\">0/0</td><td style=\"text-align: center\">0/0</td><td style=\"text-align: center\">0/0</td><td style=\"text-align: center\">...</td><td style=\"text-align: center\">0/0</td><td style=\"text-align: center\">0/0</td><td style=\"text-align: center\">0/0</td><td style=\"text-align: center\">0/0</td><td style=\"text-align: center\">0/0</td></tr><tr><th style=\"text-align: center; background-color: white; border-right: 1px solid black; \">2</th><td style=\"text-align: center\">0/0</td><td style=\"text-align: center\">0/0</td><td style=\"text-align: center\">0/0</td><td style=\"text-align: center\">0/0</td><td style=\"text-align: center\">0/0</td><td style=\"text-align: center\">...</td><td style=\"text-align: center\">0/0</td><td style=\"text-align: center\">0/0</td><td style=\"text-align: center\">0/0</td><td style=\"text-align: center\">0/0</td><td style=\"text-align: center\">0/0</td></tr><tr><th style=\"text-align: center; background-color: white; border-right: 1px solid black; \">...</th><td style=\"text-align: center\" colspan=\"12\">...</td></tr><tr><th style=\"text-align: center; background-color: white; border-right: 1px solid black; \">23966</th><td style=\"text-align: center\">0/0</td><td style=\"text-align: center\">0/0</td><td style=\"text-align: center\">0/0</td><td style=\"text-align: center\">0/0</td><td style=\"text-align: center\">0/0</td><td style=\"text-align: center\">...</td><td style=\"text-align: center\">0/0</td><td style=\"text-align: center\">0/0</td><td style=\"text-align: center\">0/0</td><td style=\"text-align: center\">0/0</td><td style=\"text-align: center\">0/0</td></tr><tr><th style=\"text-align: center; background-color: white; border-right: 1px solid black; \">23967</th><td style=\"text-align: center\">0/0</td><td style=\"text-align: center\">0/0</td><td style=\"text-align: center\">0/0</td><td style=\"text-align: center\">0/0</td><td style=\"text-align: center\">0/0</td><td style=\"text-align: center\">...</td><td style=\"text-align: center\">0/0</td><td style=\"text-align: center\">0/0</td><td style=\"text-align: center\">0/0</td><td style=\"text-align: center\">0/0</td><td style=\"text-align: center\">0/0</td></tr><tr><th style=\"text-align: center; background-color: white; border-right: 1px solid black; \">23968</th><td style=\"text-align: center\">0/0</td><td style=\"text-align: center\">0/0</td><td style=\"text-align: center\">0/0</td><td style=\"text-align: center\">0/0</td><td style=\"text-align: center\">0/0</td><td style=\"text-align: center\">...</td><td style=\"text-align: center\">0/0</td><td style=\"text-align: center\">0/0</td><td style=\"text-align: center\">0/0</td><td style=\"text-align: center\">0/0</td><td style=\"text-align: center\">0/0</td></tr></tbody></table></div>"
      ],
      "text/plain": [
       "<GenotypeDaskArray shape=(23969, 1142, 2) dtype=int8>"
      ]
     },
     "execution_count": 12,
     "metadata": {},
     "output_type": "execute_result"
    }
   ],
   "source": [
    "g[loc]"
   ]
  },
  {
   "cell_type": "code",
   "execution_count": 13,
   "metadata": {},
   "outputs": [
    {
     "data": {
      "text/html": [
       "<div class=\"allel allel-DisplayAs2D\"><span>&lt;GenotypeDaskArray shape=(8906423, 1142, 2) dtype=int8&gt;</span><table><thead><tr><th></th><th style=\"text-align: center\">0</th><th style=\"text-align: center\">1</th><th style=\"text-align: center\">2</th><th style=\"text-align: center\">3</th><th style=\"text-align: center\">4</th><th style=\"text-align: center\">...</th><th style=\"text-align: center\">1137</th><th style=\"text-align: center\">1138</th><th style=\"text-align: center\">1139</th><th style=\"text-align: center\">1140</th><th style=\"text-align: center\">1141</th></tr></thead><tbody><tr><th style=\"text-align: center; background-color: white; border-right: 1px solid black; \">0</th><td style=\"text-align: center\">0/0</td><td style=\"text-align: center\">0/0</td><td style=\"text-align: center\">0/0</td><td style=\"text-align: center\">0/0</td><td style=\"text-align: center\">0/0</td><td style=\"text-align: center\">...</td><td style=\"text-align: center\">0/0</td><td style=\"text-align: center\">0/0</td><td style=\"text-align: center\">0/0</td><td style=\"text-align: center\">0/0</td><td style=\"text-align: center\">0/0</td></tr><tr><th style=\"text-align: center; background-color: white; border-right: 1px solid black; \">1</th><td style=\"text-align: center\">0/0</td><td style=\"text-align: center\">0/0</td><td style=\"text-align: center\">0/0</td><td style=\"text-align: center\">0/0</td><td style=\"text-align: center\">0/0</td><td style=\"text-align: center\">...</td><td style=\"text-align: center\">0/0</td><td style=\"text-align: center\">0/0</td><td style=\"text-align: center\">0/0</td><td style=\"text-align: center\">0/0</td><td style=\"text-align: center\">0/0</td></tr><tr><th style=\"text-align: center; background-color: white; border-right: 1px solid black; \">2</th><td style=\"text-align: center\">0/0</td><td style=\"text-align: center\">0/0</td><td style=\"text-align: center\">0/0</td><td style=\"text-align: center\">0/0</td><td style=\"text-align: center\">0/0</td><td style=\"text-align: center\">...</td><td style=\"text-align: center\">0/0</td><td style=\"text-align: center\">0/0</td><td style=\"text-align: center\">0/0</td><td style=\"text-align: center\">0/0</td><td style=\"text-align: center\">0/0</td></tr><tr><th style=\"text-align: center; background-color: white; border-right: 1px solid black; \">...</th><td style=\"text-align: center\" colspan=\"12\">...</td></tr><tr><th style=\"text-align: center; background-color: white; border-right: 1px solid black; \">8906420</th><td style=\"text-align: center\">0/0</td><td style=\"text-align: center\">0/0</td><td style=\"text-align: center\">0/0</td><td style=\"text-align: center\">0/0</td><td style=\"text-align: center\">0/0</td><td style=\"text-align: center\">...</td><td style=\"text-align: center\">0/0</td><td style=\"text-align: center\">0/0</td><td style=\"text-align: center\">0/0</td><td style=\"text-align: center\">0/0</td><td style=\"text-align: center\">0/0</td></tr><tr><th style=\"text-align: center; background-color: white; border-right: 1px solid black; \">8906421</th><td style=\"text-align: center\">0/0</td><td style=\"text-align: center\">0/0</td><td style=\"text-align: center\">0/0</td><td style=\"text-align: center\">0/0</td><td style=\"text-align: center\">0/0</td><td style=\"text-align: center\">...</td><td style=\"text-align: center\">0/0</td><td style=\"text-align: center\">0/0</td><td style=\"text-align: center\">0/0</td><td style=\"text-align: center\">0/0</td><td style=\"text-align: center\">0/0</td></tr><tr><th style=\"text-align: center; background-color: white; border-right: 1px solid black; \">8906422</th><td style=\"text-align: center\">0/0</td><td style=\"text-align: center\">0/0</td><td style=\"text-align: center\">0/0</td><td style=\"text-align: center\">0/0</td><td style=\"text-align: center\">0/0</td><td style=\"text-align: center\">...</td><td style=\"text-align: center\">0/0</td><td style=\"text-align: center\">0/0</td><td style=\"text-align: center\">0/0</td><td style=\"text-align: center\">0/0</td><td style=\"text-align: center\">0/0</td></tr></tbody></table></div>"
      ],
      "text/plain": [
       "<GenotypeDaskArray shape=(8906423, 1142, 2) dtype=int8>"
      ]
     },
     "execution_count": 13,
     "metadata": {},
     "output_type": "execute_result"
    }
   ],
   "source": [
    "g"
   ]
  },
  {
   "cell_type": "code",
   "execution_count": null,
   "metadata": {},
   "outputs": [],
   "source": []
  }
 ],
 "metadata": {
  "kernelspec": {
   "display_name": "Mos-proj",
   "language": "python",
   "name": "mos-proj"
  },
  "language_info": {
   "codemirror_mode": {
    "name": "ipython",
    "version": 3
   },
   "file_extension": ".py",
   "mimetype": "text/x-python",
   "name": "python",
   "nbconvert_exporter": "python",
   "pygments_lexer": "ipython3",
   "version": "3.6.8"
  }
 },
 "nbformat": 4,
 "nbformat_minor": 2
}
