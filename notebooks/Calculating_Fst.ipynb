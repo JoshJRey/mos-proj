{
 "cells": [
  {
   "cell_type": "markdown",
   "metadata": {},
   "source": [
    "## Calculating Fst practice"
   ]
  },
  {
   "cell_type": "markdown",
   "metadata": {},
   "source": [
    "Practice using Ag1000 data for calculating Fst. Here, Fst is calculated for BFGam and BFCol, using scripts by Alastair Miles using the scikit-allel package. Meant to be using accessible sites, currently trying work out how to do this.\n",
    "\n",
    "Entirety of script contained in fst_calc.py"
   ]
  },
  {
   "cell_type": "code",
   "execution_count": 7,
   "metadata": {},
   "outputs": [
    {
     "name": "stdout",
     "output_type": "stream",
     "text": [
      "scikit-allel 1.2.0\n"
     ]
    }
   ],
   "source": [
    "import numpy as np\n",
    "import h5py\n",
    "import matplotlib.pyplot as plt\n",
    "%matplotlib inline\n",
    "import seaborn as sns\n",
    "sns.set_style('white')\n",
    "sns.set_style('ticks')\n",
    "import bcolz\n",
    "import pandas\n",
    "import allel; print('scikit-allel', allel.__version__)"
   ]
  },
  {
   "cell_type": "markdown",
   "metadata": {},
   "source": [
    "Here I imported data from the AG1000 phase1 ar3, under variation/main/hdf5/x.pass.h5"
   ]
  },
  {
   "cell_type": "code",
   "execution_count": 8,
   "metadata": {},
   "outputs": [
    {
     "data": {
      "text/plain": [
       "<HDF5 file \"ag1000g.phase1.ar3.pass.h5\" (mode r)>"
      ]
     },
     "execution_count": 8,
     "metadata": {},
     "output_type": "execute_result"
    }
   ],
   "source": [
    "callset_fn = '../data/phase1/hdf5/ag1000g.phase1.ar3.pass.h5'\n",
    "callset = h5py.File(callset_fn, mode='r')\n",
    "callset"
   ]
  },
  {
   "cell_type": "code",
   "execution_count": 9,
   "metadata": {},
   "outputs": [
    {
     "data": {
      "text/html": [
       "<div class=\"allel allel-DisplayAs1D\"><span>&lt;SortedIndex shape=(9643193,) dtype=int32&gt;</span><table><thead><tr><th style=\"text-align: center\">0</th><th style=\"text-align: center\">1</th><th style=\"text-align: center\">2</th><th style=\"text-align: center\">3</th><th style=\"text-align: center\">4</th><th style=\"text-align: center\">...</th><th style=\"text-align: center\">9643188</th><th style=\"text-align: center\">9643189</th><th style=\"text-align: center\">9643190</th><th style=\"text-align: center\">9643191</th><th style=\"text-align: center\">9643192</th></tr></thead><tbody><tr><td style=\"text-align: center\">9790</td><td style=\"text-align: center\">9798</td><td style=\"text-align: center\">9812</td><td style=\"text-align: center\">9818</td><td style=\"text-align: center\">9829</td><td style=\"text-align: center\">...</td><td style=\"text-align: center\">41956532</td><td style=\"text-align: center\">41956537</td><td style=\"text-align: center\">41956541</td><td style=\"text-align: center\">41956551</td><td style=\"text-align: center\">41956556</td></tr></tbody></table></div>"
      ],
      "text/plain": [
       "<SortedIndex shape=(9643193,) dtype=int32>\n",
       "[9790, 9798, 9812, 9818, 9829, ..., 41956532, 41956537, 41956541, 41956551, 41956556]"
      ]
     },
     "execution_count": 9,
     "metadata": {},
     "output_type": "execute_result"
    }
   ],
   "source": [
    "##set chromosome to work with\n",
    "chrom = '3L'\n",
    "# load all variant positions\n",
    "pos_all = allel.SortedIndex(callset[chrom]['variants']['POS'])\n",
    "pos_all"
   ]
  },
  {
   "cell_type": "code",
   "execution_count": 10,
   "metadata": {},
   "outputs": [
    {
     "data": {
      "text/html": [
       "<div class=\"allel allel-DisplayAs2D\"><span>&lt;GenotypeChunkedArray shape=(9643193, 765, 2) dtype=int8 chunks=(6553, 10, 2)\n",
       "   nbytes=13.7G cbytes=548.0M cratio=25.7\n",
       "   compression=gzip compression_opts=3\n",
       "   values=h5py._hl.dataset.Dataset&gt;</span><table><thead><tr><th></th><th style=\"text-align: center\">0</th><th style=\"text-align: center\">1</th><th style=\"text-align: center\">2</th><th style=\"text-align: center\">3</th><th style=\"text-align: center\">4</th><th style=\"text-align: center\">...</th><th style=\"text-align: center\">760</th><th style=\"text-align: center\">761</th><th style=\"text-align: center\">762</th><th style=\"text-align: center\">763</th><th style=\"text-align: center\">764</th></tr></thead><tbody><tr><th style=\"text-align: center; background-color: white; border-right: 1px solid black; \">0</th><td style=\"text-align: center\">0/0</td><td style=\"text-align: center\">0/0</td><td style=\"text-align: center\">0/0</td><td style=\"text-align: center\">0/0</td><td style=\"text-align: center\">0/0</td><td style=\"text-align: center\">...</td><td style=\"text-align: center\">0/0</td><td style=\"text-align: center\">0/0</td><td style=\"text-align: center\">0/0</td><td style=\"text-align: center\">0/0</td><td style=\"text-align: center\">0/0</td></tr><tr><th style=\"text-align: center; background-color: white; border-right: 1px solid black; \">1</th><td style=\"text-align: center\">0/0</td><td style=\"text-align: center\">0/0</td><td style=\"text-align: center\">0/0</td><td style=\"text-align: center\">0/0</td><td style=\"text-align: center\">0/0</td><td style=\"text-align: center\">...</td><td style=\"text-align: center\">0/0</td><td style=\"text-align: center\">0/0</td><td style=\"text-align: center\">0/0</td><td style=\"text-align: center\">0/0</td><td style=\"text-align: center\">0/0</td></tr><tr><th style=\"text-align: center; background-color: white; border-right: 1px solid black; \">2</th><td style=\"text-align: center\">0/0</td><td style=\"text-align: center\">0/0</td><td style=\"text-align: center\">0/0</td><td style=\"text-align: center\">0/0</td><td style=\"text-align: center\">0/0</td><td style=\"text-align: center\">...</td><td style=\"text-align: center\">0/0</td><td style=\"text-align: center\">0/0</td><td style=\"text-align: center\">0/0</td><td style=\"text-align: center\">0/0</td><td style=\"text-align: center\">0/0</td></tr><tr><th style=\"text-align: center; background-color: white; border-right: 1px solid black; \">...</th><td style=\"text-align: center\" colspan=\"12\">...</td></tr><tr><th style=\"text-align: center; background-color: white; border-right: 1px solid black; \">9643190</th><td style=\"text-align: center\">0/0</td><td style=\"text-align: center\">0/0</td><td style=\"text-align: center\">0/0</td><td style=\"text-align: center\">0/0</td><td style=\"text-align: center\">0/0</td><td style=\"text-align: center\">...</td><td style=\"text-align: center\">0/0</td><td style=\"text-align: center\">0/0</td><td style=\"text-align: center\">0/0</td><td style=\"text-align: center\">0/0</td><td style=\"text-align: center\">0/0</td></tr><tr><th style=\"text-align: center; background-color: white; border-right: 1px solid black; \">9643191</th><td style=\"text-align: center\">0/0</td><td style=\"text-align: center\">0/0</td><td style=\"text-align: center\">0/0</td><td style=\"text-align: center\">0/0</td><td style=\"text-align: center\">0/0</td><td style=\"text-align: center\">...</td><td style=\"text-align: center\">0/0</td><td style=\"text-align: center\">0/0</td><td style=\"text-align: center\">0/0</td><td style=\"text-align: center\">0/0</td><td style=\"text-align: center\">0/0</td></tr><tr><th style=\"text-align: center; background-color: white; border-right: 1px solid black; \">9643192</th><td style=\"text-align: center\">0/0</td><td style=\"text-align: center\">0/0</td><td style=\"text-align: center\">0/0</td><td style=\"text-align: center\">0/0</td><td style=\"text-align: center\">0/0</td><td style=\"text-align: center\">...</td><td style=\"text-align: center\">0/0</td><td style=\"text-align: center\">0/0</td><td style=\"text-align: center\">0/0</td><td style=\"text-align: center\">0/0</td><td style=\"text-align: center\">0/0</td></tr></tbody></table></div>"
      ],
      "text/plain": [
       "<GenotypeChunkedArray shape=(9643193, 765, 2) dtype=int8 chunks=(6553, 10, 2)\n",
       "   nbytes=13.7G cbytes=548.0M cratio=25.7\n",
       "   compression=gzip compression_opts=3\n",
       "   values=h5py._hl.dataset.Dataset>"
      ]
     },
     "execution_count": 10,
     "metadata": {},
     "output_type": "execute_result"
    }
   ],
   "source": [
    "##change to genotype data \n",
    "genotype_all = allel.GenotypeChunkedArray(callset[chrom]['calldata']['genotype'])\n",
    "genotype_all"
   ]
  },
  {
   "cell_type": "code",
   "execution_count": 11,
   "metadata": {},
   "outputs": [
    {
     "data": {
      "text/html": [
       "<div>\n",
       "<style scoped>\n",
       "    .dataframe tbody tr th:only-of-type {\n",
       "        vertical-align: middle;\n",
       "    }\n",
       "\n",
       "    .dataframe tbody tr th {\n",
       "        vertical-align: top;\n",
       "    }\n",
       "\n",
       "    .dataframe thead th {\n",
       "        text-align: right;\n",
       "    }\n",
       "</style>\n",
       "<table border=\"1\" class=\"dataframe\">\n",
       "  <thead>\n",
       "    <tr style=\"text-align: right;\">\n",
       "      <th></th>\n",
       "      <th>ox_code</th>\n",
       "      <th>src_code</th>\n",
       "      <th>sra_sample_accession</th>\n",
       "      <th>population</th>\n",
       "      <th>country</th>\n",
       "      <th>region</th>\n",
       "      <th>contributor</th>\n",
       "      <th>contact</th>\n",
       "      <th>year</th>\n",
       "      <th>m_s</th>\n",
       "      <th>sex</th>\n",
       "      <th>n_sequences</th>\n",
       "      <th>mean_coverage</th>\n",
       "      <th>latitude</th>\n",
       "      <th>longitude</th>\n",
       "    </tr>\n",
       "    <tr>\n",
       "      <th>index</th>\n",
       "      <th></th>\n",
       "      <th></th>\n",
       "      <th></th>\n",
       "      <th></th>\n",
       "      <th></th>\n",
       "      <th></th>\n",
       "      <th></th>\n",
       "      <th></th>\n",
       "      <th></th>\n",
       "      <th></th>\n",
       "      <th></th>\n",
       "      <th></th>\n",
       "      <th></th>\n",
       "      <th></th>\n",
       "      <th></th>\n",
       "    </tr>\n",
       "  </thead>\n",
       "  <tbody>\n",
       "    <tr>\n",
       "      <th>0</th>\n",
       "      <td>AB0085-C</td>\n",
       "      <td>BF2-4</td>\n",
       "      <td>ERS223996</td>\n",
       "      <td>BFS</td>\n",
       "      <td>Burkina Faso</td>\n",
       "      <td>Pala</td>\n",
       "      <td>Austin Burt</td>\n",
       "      <td>Sam O'Loughlin</td>\n",
       "      <td>2012</td>\n",
       "      <td>S</td>\n",
       "      <td>F</td>\n",
       "      <td>89905852</td>\n",
       "      <td>28.01</td>\n",
       "      <td>11.150</td>\n",
       "      <td>-4.235</td>\n",
       "    </tr>\n",
       "    <tr>\n",
       "      <th>1</th>\n",
       "      <td>AB0087-C</td>\n",
       "      <td>BF3-3</td>\n",
       "      <td>ERS224013</td>\n",
       "      <td>BFM</td>\n",
       "      <td>Burkina Faso</td>\n",
       "      <td>Bana</td>\n",
       "      <td>Austin Burt</td>\n",
       "      <td>Sam O'Loughlin</td>\n",
       "      <td>2012</td>\n",
       "      <td>M</td>\n",
       "      <td>F</td>\n",
       "      <td>116706234</td>\n",
       "      <td>36.76</td>\n",
       "      <td>11.233</td>\n",
       "      <td>-4.472</td>\n",
       "    </tr>\n",
       "    <tr>\n",
       "      <th>2</th>\n",
       "      <td>AB0088-C</td>\n",
       "      <td>BF3-5</td>\n",
       "      <td>ERS223991</td>\n",
       "      <td>BFM</td>\n",
       "      <td>Burkina Faso</td>\n",
       "      <td>Bana</td>\n",
       "      <td>Austin Burt</td>\n",
       "      <td>Sam O'Loughlin</td>\n",
       "      <td>2012</td>\n",
       "      <td>M</td>\n",
       "      <td>F</td>\n",
       "      <td>112090460</td>\n",
       "      <td>23.30</td>\n",
       "      <td>11.233</td>\n",
       "      <td>-4.472</td>\n",
       "    </tr>\n",
       "    <tr>\n",
       "      <th>3</th>\n",
       "      <td>AB0089-C</td>\n",
       "      <td>BF3-8</td>\n",
       "      <td>ERS224031</td>\n",
       "      <td>BFM</td>\n",
       "      <td>Burkina Faso</td>\n",
       "      <td>Bana</td>\n",
       "      <td>Austin Burt</td>\n",
       "      <td>Sam O'Loughlin</td>\n",
       "      <td>2012</td>\n",
       "      <td>M</td>\n",
       "      <td>F</td>\n",
       "      <td>145350454</td>\n",
       "      <td>41.36</td>\n",
       "      <td>11.233</td>\n",
       "      <td>-4.472</td>\n",
       "    </tr>\n",
       "    <tr>\n",
       "      <th>4</th>\n",
       "      <td>AB0090-C</td>\n",
       "      <td>BF3-10</td>\n",
       "      <td>ERS223936</td>\n",
       "      <td>BFM</td>\n",
       "      <td>Burkina Faso</td>\n",
       "      <td>Bana</td>\n",
       "      <td>Austin Burt</td>\n",
       "      <td>Sam O'Loughlin</td>\n",
       "      <td>2012</td>\n",
       "      <td>M</td>\n",
       "      <td>F</td>\n",
       "      <td>105012254</td>\n",
       "      <td>34.64</td>\n",
       "      <td>11.233</td>\n",
       "      <td>-4.472</td>\n",
       "    </tr>\n",
       "  </tbody>\n",
       "</table>\n",
       "</div>"
      ],
      "text/plain": [
       "        ox_code src_code sra_sample_accession population       country region  \\\n",
       "index                                                                           \n",
       "0      AB0085-C    BF2-4            ERS223996        BFS  Burkina Faso   Pala   \n",
       "1      AB0087-C    BF3-3            ERS224013        BFM  Burkina Faso   Bana   \n",
       "2      AB0088-C    BF3-5            ERS223991        BFM  Burkina Faso   Bana   \n",
       "3      AB0089-C    BF3-8            ERS224031        BFM  Burkina Faso   Bana   \n",
       "4      AB0090-C   BF3-10            ERS223936        BFM  Burkina Faso   Bana   \n",
       "\n",
       "       contributor         contact  year m_s sex  n_sequences  mean_coverage  \\\n",
       "index                                                                          \n",
       "0      Austin Burt  Sam O'Loughlin  2012   S   F     89905852          28.01   \n",
       "1      Austin Burt  Sam O'Loughlin  2012   M   F    116706234          36.76   \n",
       "2      Austin Burt  Sam O'Loughlin  2012   M   F    112090460          23.30   \n",
       "3      Austin Burt  Sam O'Loughlin  2012   M   F    145350454          41.36   \n",
       "4      Austin Burt  Sam O'Loughlin  2012   M   F    105012254          34.64   \n",
       "\n",
       "       latitude  longitude  \n",
       "index                       \n",
       "0        11.150     -4.235  \n",
       "1        11.233     -4.472  \n",
       "2        11.233     -4.472  \n",
       "3        11.233     -4.472  \n",
       "4        11.233     -4.472  "
      ]
     },
     "execution_count": 11,
     "metadata": {},
     "output_type": "execute_result"
    }
   ],
   "source": [
    "##get sample metadata\n",
    "df_samples = pandas.read_csv('../data/phase1/hdf5/samples.meta.txt', sep='\\t', index_col='index')\n",
    "df_samples.head()"
   ]
  },
  {
   "cell_type": "code",
   "execution_count": 12,
   "metadata": {},
   "outputs": [
    {
     "name": "stdout",
     "output_type": "stream",
     "text": [
      "BFS 81 BFM 69\n"
     ]
    }
   ],
   "source": [
    "##choose populations\n",
    "pop1 = 'BFS'\n",
    "pop2 = 'BFM'\n",
    "n_samples_pop1 = np.count_nonzero(df_samples.population == pop1)\n",
    "n_samples_pop2 = np.count_nonzero(df_samples.population == pop2)\n",
    "print(pop1, n_samples_pop1, pop2, n_samples_pop2)"
   ]
  },
  {
   "cell_type": "code",
   "execution_count": 13,
   "metadata": {},
   "outputs": [
    {
     "data": {
      "text/html": [
       "<div class=\"allel allel-DisplayAsTable\"><span>&lt;AlleleCountsChunkedTable shape=(9643193,) dtype=[('BFM', '&lt;i4', (4,)), ('BFS', '&lt;i4', (4,))]\n",
       "   nbytes=294.3M cbytes=33.7M cratio=8.7\n",
       "   values=allel.chunked.storage_zarr.ZarrTable&gt;</span><table><thead><tr><th></th><th style=\"text-align: center\">BFM</th><th style=\"text-align: center\">BFS</th></tr></thead><tbody><tr><th style=\"text-align: center; background-color: white; border-right: 1px solid black; \">0</th><td style=\"text-align: center\">[138   0   0   0]</td><td style=\"text-align: center\">[162   0   0   0]</td></tr><tr><th style=\"text-align: center; background-color: white; border-right: 1px solid black; \">1</th><td style=\"text-align: center\">[138   0   0   0]</td><td style=\"text-align: center\">[161   1   0   0]</td></tr><tr><th style=\"text-align: center; background-color: white; border-right: 1px solid black; \">2</th><td style=\"text-align: center\">[138   0   0   0]</td><td style=\"text-align: center\">[162   0   0   0]</td></tr><tr><th style=\"text-align: center; background-color: white; border-right: 1px solid black; \">...</th><td style=\"text-align: center\" colspan=\"3\">...</td></tr><tr><th style=\"text-align: center; background-color: white; border-right: 1px solid black; \">9643190</th><td style=\"text-align: center\">[138   0   0   0]</td><td style=\"text-align: center\">[162   0   0   0]</td></tr><tr><th style=\"text-align: center; background-color: white; border-right: 1px solid black; \">9643191</th><td style=\"text-align: center\">[138   0   0   0]</td><td style=\"text-align: center\">[162   0   0   0]</td></tr><tr><th style=\"text-align: center; background-color: white; border-right: 1px solid black; \">9643192</th><td style=\"text-align: center\">[138   0   0   0]</td><td style=\"text-align: center\">[162   0   0   0]</td></tr></tbody></table></div>"
      ],
      "text/plain": [
       "<AlleleCountsChunkedTable shape=(9643193,) dtype=[('BFM', '<i4', (4,)), ('BFS', '<i4', (4,))]\n",
       "   nbytes=294.3M cbytes=33.7M cratio=8.7\n",
       "   values=allel.chunked.storage_zarr.ZarrTable>"
      ]
     },
     "execution_count": 13,
     "metadata": {},
     "output_type": "execute_result"
    }
   ],
   "source": [
    "##compute allele counts\n",
    "# dictionary mapping population names to sample indices\n",
    "subpops = {\n",
    "    pop1: df_samples[df_samples.population == pop1].index,\n",
    "    pop2: df_samples[df_samples.population == pop2].index,\n",
    "}\n",
    "# allele counts\n",
    "acs = genotype_all.count_alleles_subpops(subpops)\n",
    "acs"
   ]
  },
  {
   "cell_type": "code",
   "execution_count": 14,
   "metadata": {},
   "outputs": [
    {
     "name": "stdout",
     "output_type": "stream",
     "text": [
      "retaining 4495197 SNPs\n"
     ]
    },
    {
     "data": {
      "text/html": [
       "<div class=\"allel allel-DisplayAs2D\"><span>&lt;GenotypeChunkedArray shape=(4495197, 765, 2) dtype=int8 chunks=(2195, 765, 2)\n",
       "   nbytes=6.4G cbytes=517.7M cratio=12.7\n",
       "   compression=blosc compression_opts={'cname': 'lz4', 'clevel': 5, 'shuffle': 1, 'blocksize': 0}\n",
       "   values=zarr.core.Array&gt;</span><table><thead><tr><th></th><th style=\"text-align: center\">0</th><th style=\"text-align: center\">1</th><th style=\"text-align: center\">2</th><th style=\"text-align: center\">3</th><th style=\"text-align: center\">4</th><th style=\"text-align: center\">...</th><th style=\"text-align: center\">760</th><th style=\"text-align: center\">761</th><th style=\"text-align: center\">762</th><th style=\"text-align: center\">763</th><th style=\"text-align: center\">764</th></tr></thead><tbody><tr><th style=\"text-align: center; background-color: white; border-right: 1px solid black; \">0</th><td style=\"text-align: center\">0/0</td><td style=\"text-align: center\">0/0</td><td style=\"text-align: center\">0/0</td><td style=\"text-align: center\">0/0</td><td style=\"text-align: center\">0/0</td><td style=\"text-align: center\">...</td><td style=\"text-align: center\">0/0</td><td style=\"text-align: center\">0/0</td><td style=\"text-align: center\">0/0</td><td style=\"text-align: center\">0/0</td><td style=\"text-align: center\">0/0</td></tr><tr><th style=\"text-align: center; background-color: white; border-right: 1px solid black; \">1</th><td style=\"text-align: center\">0/0</td><td style=\"text-align: center\">0/0</td><td style=\"text-align: center\">0/0</td><td style=\"text-align: center\">0/0</td><td style=\"text-align: center\">0/0</td><td style=\"text-align: center\">...</td><td style=\"text-align: center\">0/0</td><td style=\"text-align: center\">0/0</td><td style=\"text-align: center\">0/0</td><td style=\"text-align: center\">0/0</td><td style=\"text-align: center\">0/0</td></tr><tr><th style=\"text-align: center; background-color: white; border-right: 1px solid black; \">2</th><td style=\"text-align: center\">0/0</td><td style=\"text-align: center\">0/0</td><td style=\"text-align: center\">0/0</td><td style=\"text-align: center\">0/0</td><td style=\"text-align: center\">0/0</td><td style=\"text-align: center\">...</td><td style=\"text-align: center\">0/0</td><td style=\"text-align: center\">0/0</td><td style=\"text-align: center\">0/0</td><td style=\"text-align: center\">0/0</td><td style=\"text-align: center\">0/0</td></tr><tr><th style=\"text-align: center; background-color: white; border-right: 1px solid black; \">...</th><td style=\"text-align: center\" colspan=\"12\">...</td></tr><tr><th style=\"text-align: center; background-color: white; border-right: 1px solid black; \">4495194</th><td style=\"text-align: center\">0/0</td><td style=\"text-align: center\">0/0</td><td style=\"text-align: center\">0/0</td><td style=\"text-align: center\">0/0</td><td style=\"text-align: center\">0/0</td><td style=\"text-align: center\">...</td><td style=\"text-align: center\">0/0</td><td style=\"text-align: center\">0/0</td><td style=\"text-align: center\">0/0</td><td style=\"text-align: center\">0/0</td><td style=\"text-align: center\">0/0</td></tr><tr><th style=\"text-align: center; background-color: white; border-right: 1px solid black; \">4495195</th><td style=\"text-align: center\">0/0</td><td style=\"text-align: center\">0/0</td><td style=\"text-align: center\">0/0</td><td style=\"text-align: center\">0/0</td><td style=\"text-align: center\">0/0</td><td style=\"text-align: center\">...</td><td style=\"text-align: center\">0/0</td><td style=\"text-align: center\">0/0</td><td style=\"text-align: center\">0/0</td><td style=\"text-align: center\">0/0</td><td style=\"text-align: center\">0/0</td></tr><tr><th style=\"text-align: center; background-color: white; border-right: 1px solid black; \">4495196</th><td style=\"text-align: center\">0/0</td><td style=\"text-align: center\">0/0</td><td style=\"text-align: center\">0/0</td><td style=\"text-align: center\">0/0</td><td style=\"text-align: center\">0/0</td><td style=\"text-align: center\">...</td><td style=\"text-align: center\">0/0</td><td style=\"text-align: center\">0/0</td><td style=\"text-align: center\">0/0</td><td style=\"text-align: center\">0/0</td><td style=\"text-align: center\">0/0</td></tr></tbody></table></div>"
      ],
      "text/plain": [
       "<GenotypeChunkedArray shape=(4495197, 765, 2) dtype=int8 chunks=(2195, 765, 2)\n",
       "   nbytes=6.4G cbytes=517.7M cratio=12.7\n",
       "   compression=blosc compression_opts={'cname': 'lz4', 'clevel': 5, 'shuffle': 1, 'blocksize': 0}\n",
       "   values=zarr.core.Array>"
      ]
     },
     "execution_count": 14,
     "metadata": {},
     "output_type": "execute_result"
    }
   ],
   "source": [
    "##filter out non-segregating variants and multiallelic variants\n",
    "acu = allel.AlleleCountsArray(acs[pop1][:] + acs[pop2][:])\n",
    "flt = acu.is_segregating() & (acu.max_allele() == 1)\n",
    "print('retaining', np.count_nonzero(flt), 'SNPs')\n",
    "\n",
    "pos = pos_all.compress(flt)\n",
    "ac1 = allel.AlleleCountsArray(acs[pop1].compress(flt, axis=0)[:, :2])\n",
    "ac2 = allel.AlleleCountsArray(acs[pop2].compress(flt, axis=0)[:, :2])\n",
    "genotype = genotype_all.compress(flt, axis=0)\n",
    "genotype"
   ]
  },
  {
   "cell_type": "markdown",
   "metadata": {},
   "source": [
    "Now to acutally calculate Fst"
   ]
  },
  {
   "cell_type": "code",
   "execution_count": 15,
   "metadata": {},
   "outputs": [
    {
     "data": {
      "text/plain": [
       "array([-0.00100123, -0.00666703,  0.00255152, ..., -0.00100123,\n",
       "        0.00117408, -0.00100123])"
      ]
     },
     "execution_count": 15,
     "metadata": {},
     "output_type": "execute_result"
    }
   ],
   "source": [
    "##weir-cockerham\n",
    "# sample indices for population 1\n",
    "pop1_idx = subpops[pop1]\n",
    "# sample indices for population 2\n",
    "pop2_idx = subpops[pop2]\n",
    "a, b, c = allel.weir_cockerham_fst(genotype, subpops=[pop1_idx, pop2_idx], max_allele=1)\n",
    "snp_fst_wc = (a / (a + b + c))[:, 0]\n",
    "snp_fst_wc"
   ]
  },
  {
   "cell_type": "code",
   "execution_count": 16,
   "metadata": {},
   "outputs": [
    {
     "data": {
      "text/plain": [
       "array([ 0.        , -0.00671141,  0.00177167, ...,  0.        ,\n",
       "        0.        ,  0.        ])"
      ]
     },
     "execution_count": 16,
     "metadata": {},
     "output_type": "execute_result"
    }
   ],
   "source": [
    "##hudson\n",
    "num, den = allel.hudson_fst(ac1, ac2)\n",
    "snp_fst_hudson = num / den\n",
    "snp_fst_hudson"
   ]
  },
  {
   "cell_type": "markdown",
   "metadata": {},
   "source": [
    "And plot them against each other to assess similarity of assessment"
   ]
  },
  {
   "cell_type": "code",
   "execution_count": 17,
   "metadata": {},
   "outputs": [
    {
     "data": {
      "image/png": "[encoded data removed]",
      "text/plain": [
       "<Figure size 360x360 with 1 Axes>"
      ]
     },
     "metadata": {},
     "output_type": "display_data"
    }
   ],
   "source": [
    "##plot weir-cockram vs hudson\n",
    "fig, ax = plt.subplots(figsize=(5, 5))\n",
    "sns.despine(ax=ax, offset=5)\n",
    "ax.plot(snp_fst_hudson, snp_fst_wc, color='k', marker='.', linestyle=' ')\n",
    "ax.set_xlim(0, 1)\n",
    "ax.set_ylim(0, 1)\n",
    "ax.set_xlabel('Hudson $F_{ST}$')\n",
    "ax.set_ylabel('Weir & Cockerham $F_{ST}$')\n",
    "ax.set_title('%s (%s) vs %s (%s), SNP $F_{ST}$' % (pop1, n_samples_pop1, pop2, n_samples_pop2));"
   ]
  },
  {
   "cell_type": "markdown",
   "metadata": {},
   "source": [
    "Now compute chromosome averages"
   ]
  },
  {
   "cell_type": "code",
   "execution_count": 23,
   "metadata": {},
   "outputs": [
    {
     "name": "stdout",
     "output_type": "stream",
     "text": [
      "0.0529 +/- 0.0039 (Weir & Cockerham)\n"
     ]
    }
   ],
   "source": [
    "##weir-cochram\n",
    "fst_wc, se_wc, vb_wc, _ = allel.blockwise_weir_cockerham_fst(genotype, subpops=[pop1_idx, pop2_idx], blen=10000, max_allele=1)\n",
    "print('%.04f +/- %.04f (Weir & Cockerham)' % (fst_wc, se_wc))"
   ]
  },
  {
   "cell_type": "code",
   "execution_count": 19,
   "metadata": {},
   "outputs": [
    {
     "name": "stdout",
     "output_type": "stream",
     "text": [
      "0.0530 +/- 0.0040 (Hudson)\n"
     ]
    }
   ],
   "source": [
    "##hudson\n",
    "fst_hudson, se_hudson, vb_hudson, _ = allel.blockwise_hudson_fst(ac1, ac2, blen=10000)\n",
    "print('%.04f +/- %.04f (Hudson)' % (fst_hudson, se_hudson))"
   ]
  },
  {
   "cell_type": "markdown",
   "metadata": {},
   "source": [
    "Now to test importance of SNP ascertation\n"
   ]
  },
  {
   "cell_type": "code",
   "execution_count": 21,
   "metadata": {},
   "outputs": [
    {
     "name": "stdout",
     "output_type": "stream",
     "text": [
      "0.0548 +/- 0.0050 (using 3177964 SNPs segregating in first population)\n",
      "0.0503 +/- 0.0041 (using 2671158 SNPs segregating in second population)\n",
      "0.0530 +/- 0.0040 (using 4495197 SNPs segregating in either population)\n",
      "0.0521 +/- 0.0063 (using 1353925 SNPs segregating in both population)\n"
     ]
    }
   ],
   "source": [
    "##define function\n",
    "def compute_fst(ac1, ac2, scheme):\n",
    "    \n",
    "    if scheme == 'first':\n",
    "        loc_asc = ac1.is_segregating()\n",
    "    elif scheme == 'second':\n",
    "        loc_asc = ac2.is_segregating()\n",
    "    elif scheme == 'either':\n",
    "        loc_asc = ac1.is_segregating() | ac2.is_segregating()\n",
    "    elif scheme == 'both':\n",
    "        loc_asc = ac1.is_segregating() & ac2.is_segregating()    \n",
    "    n_snps = np.count_nonzero(loc_asc)\n",
    "    \n",
    "    ac1 = ac1.compress(loc_asc, axis=0)\n",
    "    ac2 = ac2.compress(loc_asc, axis=0)\n",
    "    \n",
    "    fst, se, _, _ = allel.blockwise_hudson_fst(ac1, ac2, blen=10000)\n",
    "    \n",
    "    print('%.04f +/- %.04f (using %s SNPs segregating in %s population)' % (fst, se, n_snps, scheme))\n",
    "\n",
    "##use function\n",
    "for scheme in 'first', 'second', 'either', 'both':\n",
    "    compute_fst(ac1, ac2, scheme)"
   ]
  },
  {
   "cell_type": "markdown",
   "metadata": {},
   "source": [
    "Now to plot Fst over the chromosome, to examine how it changes over location"
   ]
  },
  {
   "cell_type": "code",
   "execution_count": 22,
   "metadata": {},
   "outputs": [
    {
     "data": {
      "image/png": "[encoded data removed]",
      "text/plain": [
       "<Figure size 720x288 with 1 Axes>"
      ]
     },
     "metadata": {},
     "output_type": "display_data"
    }
   ],
   "source": [
    "##define function\n",
    "def plot_fst(ac1, ac2, pos, blen=2000):\n",
    "    \n",
    "    fst, se, vb, _ = allel.blockwise_hudson_fst(ac1, ac2, blen=blen)\n",
    "    \n",
    "    # use the per-block average Fst as the Y coordinate\n",
    "    y = vb\n",
    "    \n",
    "    # use the block centres as the X coordinate\n",
    "    x = allel.moving_statistic(pos, statistic=lambda v: (v[0] + v[-1]) / 2, size=blen)\n",
    "    \n",
    "    # plot\n",
    "    fig, ax = plt.subplots(figsize=(10, 4))\n",
    "    sns.despine(ax=ax, offset=5)\n",
    "    ax.plot(x, y, 'k-', lw=.5)\n",
    "    ax.set_ylabel('$F_{ST}$')\n",
    "    ax.set_xlabel('Chromosome %s position (bp)' % chrom)\n",
    "    ax.set_xlim(0, pos.max())\n",
    "    \n",
    "##plot function\n",
    "plot_fst(ac1, ac2, pos)\n"
   ]
  },
  {
   "cell_type": "markdown",
   "metadata": {},
   "source": [
    "Now that this has been developed for -2- populations at -all- sites, to append to look at -3- populations at -accessible- sites"
   ]
  }
 ],
 "metadata": {
  "kernelspec": {
   "display_name": "Python 3",
   "language": "python",
   "name": "python3"
  },
  "language_info": {
   "codemirror_mode": {
    "name": "ipython",
    "version": 3
   },
   "file_extension": ".py",
   "mimetype": "text/x-python",
   "name": "python",
   "nbconvert_exporter": "python",
   "pygments_lexer": "ipython3",
   "version": "3.6.7"
  }
 },
 "nbformat": 4,
 "nbformat_minor": 2
}
