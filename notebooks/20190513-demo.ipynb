{
 "cells": [
  {
   "cell_type": "code",
   "execution_count": 1,
   "metadata": {},
   "outputs": [],
   "source": [
    "import allel\n",
    "import zarr"
   ]
  },
  {
   "cell_type": "code",
   "execution_count": 4,
   "metadata": {},
   "outputs": [],
   "source": [
    "degen = zarr.open_group(\"../../../Documents/mosquito_project/outputs/build_blocks/codon_degeneracy.zarr.zip\")"
   ]
  },
  {
   "cell_type": "code",
   "execution_count": 5,
   "metadata": {},
   "outputs": [
    {
     "data": {
      "text/html": [
       "<link rel=\"stylesheet\" href=\"//cdnjs.cloudflare.com/ajax/libs/jstree/3.3.3/themes/default/style.min.css\"/><div id=\"be39cc49-94b1-41ca-b42c-f7e2074ba7ac\" class=\"zarr-tree\"><ul><li data-jstree='{\"type\": \"Group\"}' class='jstree-open'><span>/</span><ul><li data-jstree='{\"type\": \"Array\"}' class=''><span>2L (49364325,) int8</span></li><li data-jstree='{\"type\": \"Array\"}' class=''><span>2R (61545105,) int8</span></li><li data-jstree='{\"type\": \"Array\"}' class=''><span>3L (41963435,) int8</span></li><li data-jstree='{\"type\": \"Array\"}' class=''><span>3R (53200684,) int8</span></li><li data-jstree='{\"type\": \"Array\"}' class=''><span>UNKN (42389979,) int8</span></li><li data-jstree='{\"type\": \"Array\"}' class=''><span>X (24393108,) int8</span></li><li data-jstree='{\"type\": \"Array\"}' class=''><span>Y_unplaced (237045,) int8</span></li></ul></li></ul></div>\n",
       "<script>\n",
       "    if (!require.defined('jquery')) {\n",
       "        require.config({\n",
       "            paths: {\n",
       "                jquery: '//cdnjs.cloudflare.com/ajax/libs/jquery/1.12.1/jquery.min'\n",
       "            },\n",
       "        });\n",
       "    }\n",
       "    if (!require.defined('jstree')) {\n",
       "        require.config({\n",
       "            paths: {\n",
       "                jstree: '//cdnjs.cloudflare.com/ajax/libs/jstree/3.3.3/jstree.min'\n",
       "            },\n",
       "        });\n",
       "    }\n",
       "    require(['jstree'], function() {\n",
       "        $('#be39cc49-94b1-41ca-b42c-f7e2074ba7ac').jstree({\n",
       "            types: {\n",
       "                Group: {\n",
       "                    icon: \"fa fa-folder\"\n",
       "                },\n",
       "                Array: {\n",
       "                    icon: \"fa fa-table\"\n",
       "                }\n",
       "            },\n",
       "            plugins: [\"types\"]\n",
       "        });\n",
       "    });\n",
       "</script>\n"
      ],
      "text/plain": [
       "/\n",
       " ├── 2L (49364325,) int8\n",
       " ├── 2R (61545105,) int8\n",
       " ├── 3L (41963435,) int8\n",
       " ├── 3R (53200684,) int8\n",
       " ├── UNKN (42389979,) int8\n",
       " ├── X (24393108,) int8\n",
       " └── Y_unplaced (237045,) int8"
      ]
     },
     "execution_count": 5,
     "metadata": {},
     "output_type": "execute_result"
    }
   ],
   "source": [
    "degen.tree()"
   ]
  },
  {
   "cell_type": "code",
   "execution_count": 2,
   "metadata": {},
   "outputs": [],
   "source": [
    "callset = zarr.open_group(\"../phase2.AR1/variation/main/zarr2/ag1000g.phase2.ar1/\")"
   ]
  },
  {
   "cell_type": "code",
   "execution_count": 6,
   "metadata": {},
   "outputs": [
    {
     "data": {
      "text/html": [
       "<link rel=\"stylesheet\" href=\"//cdnjs.cloudflare.com/ajax/libs/jstree/3.3.3/themes/default/style.min.css\"/><div id=\"57209164-7785-4233-9053-5e3101b497da\" class=\"zarr-tree\"><ul><li data-jstree='{\"type\": \"Group\"}' class='jstree-open'><span>/</span><ul><li data-jstree='{\"type\": \"Group\"}' class=''><span>2L</span><ul><li data-jstree='{\"type\": \"Group\"}' class=''><span>variants</span><ul><li data-jstree='{\"type\": \"Array\"}' class=''><span>ALT (21442865, 3) |S1</span></li><li data-jstree='{\"type\": \"Array\"}' class=''><span>FILTER_PASS (21442865,) bool</span></li><li data-jstree='{\"type\": \"Array\"}' class=''><span>POS (21442865,) int32</span></li><li data-jstree='{\"type\": \"Array\"}' class=''><span>REF (21442865,) |S1</span></li></ul></li></ul></li><li data-jstree='{\"type\": \"Group\"}' class=''><span>2R</span><ul><li data-jstree='{\"type\": \"Group\"}' class=''><span>variants</span><ul><li data-jstree='{\"type\": \"Array\"}' class=''><span>ALT (24767689, 3) |S1</span></li><li data-jstree='{\"type\": \"Array\"}' class=''><span>FILTER_PASS (24767689,) bool</span></li><li data-jstree='{\"type\": \"Array\"}' class=''><span>POS (24767689,) int32</span></li><li data-jstree='{\"type\": \"Array\"}' class=''><span>REF (24767689,) |S1</span></li></ul></li></ul></li><li data-jstree='{\"type\": \"Group\"}' class=''><span>3L</span><ul><li data-jstree='{\"type\": \"Group\"}' class=''><span>variants</span><ul><li data-jstree='{\"type\": \"Array\"}' class=''><span>ALT (18167056, 3) |S1</span></li><li data-jstree='{\"type\": \"Array\"}' class=''><span>FILTER_PASS (18167056,) bool</span></li><li data-jstree='{\"type\": \"Array\"}' class=''><span>POS (18167056,) int32</span></li><li data-jstree='{\"type\": \"Array\"}' class=''><span>REF (18167056,) |S1</span></li></ul></li></ul></li><li data-jstree='{\"type\": \"Group\"}' class=''><span>3R</span><ul><li data-jstree='{\"type\": \"Group\"}' class=''><span>variants</span><ul><li data-jstree='{\"type\": \"Array\"}' class=''><span>ALT (24943504, 3) |S1</span></li><li data-jstree='{\"type\": \"Array\"}' class=''><span>FILTER_PASS (24943504,) bool</span></li><li data-jstree='{\"type\": \"Array\"}' class=''><span>POS (24943504,) int32</span></li><li data-jstree='{\"type\": \"Array\"}' class=''><span>REF (24943504,) |S1</span></li></ul></li></ul></li><li data-jstree='{\"type\": \"Group\"}' class=''><span>UNKN</span><ul><li data-jstree='{\"type\": \"Group\"}' class=''><span>variants</span><ul><li data-jstree='{\"type\": \"Array\"}' class=''><span>ALT (6759497, 3) |S1</span></li><li data-jstree='{\"type\": \"Array\"}' class=''><span>FILTER_PASS (6759497,) bool</span></li><li data-jstree='{\"type\": \"Array\"}' class=''><span>POS (6759497,) int32</span></li><li data-jstree='{\"type\": \"Array\"}' class=''><span>REF (6759497,) |S1</span></li></ul></li></ul></li><li data-jstree='{\"type\": \"Group\"}' class=''><span>X</span><ul><li data-jstree='{\"type\": \"Group\"}' class=''><span>variants</span><ul><li data-jstree='{\"type\": \"Array\"}' class=''><span>ALT (9389639, 3) |S1</span></li><li data-jstree='{\"type\": \"Array\"}' class=''><span>FILTER_PASS (9389639,) bool</span></li><li data-jstree='{\"type\": \"Array\"}' class=''><span>POS (9389639,) int32</span></li><li data-jstree='{\"type\": \"Array\"}' class=''><span>REF (9389639,) |S1</span></li></ul></li></ul></li><li data-jstree='{\"type\": \"Group\"}' class=''><span>Y_unplaced</span><ul><li data-jstree='{\"type\": \"Group\"}' class=''><span>variants</span><ul><li data-jstree='{\"type\": \"Array\"}' class=''><span>ALT (16448, 3) |S1</span></li><li data-jstree='{\"type\": \"Array\"}' class=''><span>FILTER_PASS (16448,) bool</span></li><li data-jstree='{\"type\": \"Array\"}' class=''><span>POS (16448,) int32</span></li><li data-jstree='{\"type\": \"Array\"}' class=''><span>REF (16448,) |S1</span></li></ul></li></ul></li><li data-jstree='{\"type\": \"Array\"}' class=''><span>samples (1142,) |S8</span></li></ul></li></ul></div>\n",
       "<script>\n",
       "    if (!require.defined('jquery')) {\n",
       "        require.config({\n",
       "            paths: {\n",
       "                jquery: '//cdnjs.cloudflare.com/ajax/libs/jquery/1.12.1/jquery.min'\n",
       "            },\n",
       "        });\n",
       "    }\n",
       "    if (!require.defined('jstree')) {\n",
       "        require.config({\n",
       "            paths: {\n",
       "                jstree: '//cdnjs.cloudflare.com/ajax/libs/jstree/3.3.3/jstree.min'\n",
       "            },\n",
       "        });\n",
       "    }\n",
       "    require(['jstree'], function() {\n",
       "        $('#57209164-7785-4233-9053-5e3101b497da').jstree({\n",
       "            types: {\n",
       "                Group: {\n",
       "                    icon: \"fa fa-folder\"\n",
       "                },\n",
       "                Array: {\n",
       "                    icon: \"fa fa-table\"\n",
       "                }\n",
       "            },\n",
       "            plugins: [\"types\"]\n",
       "        });\n",
       "    });\n",
       "</script>\n"
      ],
      "text/plain": [
       "/\n",
       " ├── 2L\n",
       " │   └── variants\n",
       " │       ├── ALT (21442865, 3) |S1\n",
       " │       ├── FILTER_PASS (21442865,) bool\n",
       " │       ├── POS (21442865,) int32\n",
       " │       └── REF (21442865,) |S1\n",
       " ├── 2R\n",
       " │   └── variants\n",
       " │       ├── ALT (24767689, 3) |S1\n",
       " │       ├── FILTER_PASS (24767689,) bool\n",
       " │       ├── POS (24767689,) int32\n",
       " │       └── REF (24767689,) |S1\n",
       " ├── 3L\n",
       " │   └── variants\n",
       " │       ├── ALT (18167056, 3) |S1\n",
       " │       ├── FILTER_PASS (18167056,) bool\n",
       " │       ├── POS (18167056,) int32\n",
       " │       └── REF (18167056,) |S1\n",
       " ├── 3R\n",
       " │   └── variants\n",
       " │       ├── ALT (24943504, 3) |S1\n",
       " │       ├── FILTER_PASS (24943504,) bool\n",
       " │       ├── POS (24943504,) int32\n",
       " │       └── REF (24943504,) |S1\n",
       " ├── UNKN\n",
       " │   └── variants\n",
       " │       ├── ALT (6759497, 3) |S1\n",
       " │       ├── FILTER_PASS (6759497,) bool\n",
       " │       ├── POS (6759497,) int32\n",
       " │       └── REF (6759497,) |S1\n",
       " ├── X\n",
       " │   └── variants\n",
       " │       ├── ALT (9389639, 3) |S1\n",
       " │       ├── FILTER_PASS (9389639,) bool\n",
       " │       ├── POS (9389639,) int32\n",
       " │       └── REF (9389639,) |S1\n",
       " ├── Y_unplaced\n",
       " │   └── variants\n",
       " │       ├── ALT (16448, 3) |S1\n",
       " │       ├── FILTER_PASS (16448,) bool\n",
       " │       ├── POS (16448,) int32\n",
       " │       └── REF (16448,) |S1\n",
       " └── samples (1142,) |S8"
      ]
     },
     "execution_count": 6,
     "metadata": {},
     "output_type": "execute_result"
    }
   ],
   "source": [
    "callset.tree()"
   ]
  },
  {
   "cell_type": "code",
   "execution_count": 7,
   "metadata": {},
   "outputs": [],
   "source": [
    "chrom=\"2L\""
   ]
  },
  {
   "cell_type": "code",
   "execution_count": 9,
   "metadata": {},
   "outputs": [
    {
     "data": {
      "text/plain": [
       "<zarr.core.Array '/2L/variants/POS' (21442865,) int32>"
      ]
     },
     "execution_count": 9,
     "metadata": {},
     "output_type": "execute_result"
    }
   ],
   "source": [
    "callset[chrom][\"variants/POS\"]"
   ]
  },
  {
   "cell_type": "code",
   "execution_count": 10,
   "metadata": {},
   "outputs": [],
   "source": [
    "pos = allel.SortedIndex(callset[chrom][\"variants/POS\"])"
   ]
  },
  {
   "cell_type": "code",
   "execution_count": 11,
   "metadata": {},
   "outputs": [
    {
     "data": {
      "text/html": [
       "<div class=\"allel allel-DisplayAs1D\"><span>&lt;SortedIndex shape=(21442865,) dtype=int32&gt;</span><table><thead><tr><th style=\"text-align: center\">0</th><th style=\"text-align: center\">1</th><th style=\"text-align: center\">2</th><th style=\"text-align: center\">3</th><th style=\"text-align: center\">4</th><th style=\"text-align: center\">...</th><th style=\"text-align: center\">21442860</th><th style=\"text-align: center\">21442861</th><th style=\"text-align: center\">21442862</th><th style=\"text-align: center\">21442863</th><th style=\"text-align: center\">21442864</th></tr></thead><tbody><tr><td style=\"text-align: center\">20</td><td style=\"text-align: center\">103</td><td style=\"text-align: center\">163</td><td style=\"text-align: center\">174</td><td style=\"text-align: center\">177</td><td style=\"text-align: center\">...</td><td style=\"text-align: center\">49361766</td><td style=\"text-align: center\">49361791</td><td style=\"text-align: center\">49361815</td><td style=\"text-align: center\">49362329</td><td style=\"text-align: center\">49362335</td></tr></tbody></table></div>"
      ],
      "text/plain": [
       "<SortedIndex shape=(21442865,) dtype=int32>\n",
       "[20, 103, 163, 174, 177, ..., 49361766, 49361791, 49361815, 49362329, 49362335]"
      ]
     },
     "execution_count": 11,
     "metadata": {},
     "output_type": "execute_result"
    }
   ],
   "source": [
    "pos"
   ]
  },
  {
   "cell_type": "code",
   "execution_count": 12,
   "metadata": {},
   "outputs": [],
   "source": [
    "loc = pos.locate_range(100000, 200000)"
   ]
  },
  {
   "cell_type": "code",
   "execution_count": null,
   "metadata": {},
   "outputs": [],
   "source": [
    "g = allel.GenotypeDaskArray(callset[\"2L/calldata/genotype\"])"
   ]
  }
 ],
 "metadata": {
  "kernelspec": {
   "display_name": "Python 3",
   "language": "python",
   "name": "python3"
  },
  "language_info": {
   "codemirror_mode": {
    "name": "ipython",
    "version": 3
   },
   "file_extension": ".py",
   "mimetype": "text/x-python",
   "name": "python",
   "nbconvert_exporter": "python",
   "pygments_lexer": "ipython3",
   "version": "3.6.7"
  }
 },
 "nbformat": 4,
 "nbformat_minor": 2
}
