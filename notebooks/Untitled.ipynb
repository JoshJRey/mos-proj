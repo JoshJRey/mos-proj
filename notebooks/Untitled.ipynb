{
 "cells": [
  {
   "cell_type": "code",
   "execution_count": 1,
   "metadata": {},
   "outputs": [
    {
     "data": {
      "text/html": [
       "<style type=\"text/css\">\n",
       ".container {\n",
       "    width: 100%;\n",
       "}\n",
       "div#notebook {\n",
       "    padding-top: 1em;\n",
       "}\n",
       "#header-container {\n",
       "    display: none;\n",
       "}\n",
       "#header-bar {\n",
       "    display: none;\n",
       "}\n",
       "#maintoolbar {\n",
       "    display: none;\n",
       "}\n",
       "#menubar-container {\n",
       "    position: fixed;\n",
       "    margin-top: 0;\n",
       "}\n",
       "#site {\n",
       "    height: auto !important;\n",
       "}\n",
       "</style>"
      ],
      "text/plain": [
       "<IPython.core.display.HTML object>"
      ]
     },
     "metadata": {},
     "output_type": "display_data"
    }
   ],
   "source": [
    "run setup.ipynb"
   ]
  },
  {
   "cell_type": "code",
   "execution_count": 2,
   "metadata": {},
   "outputs": [],
   "source": [
    "allele_counts = phase2_ar1.allele_counts"
   ]
  },
  {
   "cell_type": "code",
   "execution_count": 23,
   "metadata": {},
   "outputs": [],
   "source": [
    "seqid = '3L'"
   ]
  },
  {
   "cell_type": "code",
   "execution_count": 5,
   "metadata": {},
   "outputs": [
    {
     "data": {
      "text/plain": [
       "<KeysViewHDF5 ['AOcol', 'BFcol', 'BFgam', 'CIcol', 'CMgam', 'FRgam', 'GAgam', 'GHcol', 'GHgam', 'GM', 'GNcol', 'GNgam', 'GQgam', 'GW', 'KE', 'UGgam', 'all']>"
      ]
     },
     "execution_count": 5,
     "metadata": {},
     "output_type": "execute_result"
    }
   ],
   "source": [
    "allele_counts['3L'].keys()"
   ]
  },
  {
   "cell_type": "code",
   "execution_count": 13,
   "metadata": {},
   "outputs": [],
   "source": [
    "BFg_ac = allele_counts['3L/BFgam'][:]\n"
   ]
  },
  {
   "cell_type": "code",
   "execution_count": 16,
   "metadata": {},
   "outputs": [
    {
     "data": {
      "text/plain": [
       "array([[  0,   2,   0,   0],\n",
       "       [  0,   2,   0,   0],\n",
       "       [  0,   2,   0,   0],\n",
       "       ...,\n",
       "       [136,   0,   0,   0],\n",
       "       [ 46,   0,   0,   0],\n",
       "       [ 18,   0,   0,   0]], dtype=uint32)"
      ]
     },
     "execution_count": 16,
     "metadata": {},
     "output_type": "execute_result"
    }
   ],
   "source": [
    "BFg_ac"
   ]
  },
  {
   "cell_type": "code",
   "execution_count": 19,
   "metadata": {},
   "outputs": [
    {
     "data": {
      "text/plain": [
       "18167056"
      ]
     },
     "execution_count": 19,
     "metadata": {},
     "output_type": "execute_result"
    }
   ],
   "source": [
    "BFc_ac = allele_counts['3L/BFcol'][:]\n",
    "len(col)"
   ]
  },
  {
   "cell_type": "code",
   "execution_count": 17,
   "metadata": {},
   "outputs": [
    {
     "data": {
      "text/plain": [
       "184"
      ]
     },
     "execution_count": 17,
     "metadata": {},
     "output_type": "execute_result"
    }
   ],
   "source": [
    "BFg_ac.max()"
   ]
  },
  {
   "cell_type": "code",
   "execution_count": 20,
   "metadata": {},
   "outputs": [
    {
     "data": {
      "text/plain": [
       "150"
      ]
     },
     "execution_count": 20,
     "metadata": {},
     "output_type": "execute_result"
    }
   ],
   "source": [
    "BFc_ac.max()"
   ]
  },
  {
   "cell_type": "code",
   "execution_count": 24,
   "metadata": {},
   "outputs": [
    {
     "ename": "ValueError",
     "evalue": "operands could not be broadcast together with shapes (41963435,) (18167056,) ",
     "output_type": "error",
     "traceback": [
      "\u001b[0;31m---------------------------------------------------------------------------\u001b[0m",
      "\u001b[0;31mValueError\u001b[0m                                Traceback (most recent call last)",
      "\u001b[0;32m<ipython-input-24-fefcbfb151c0>\u001b[0m in \u001b[0;36m<module>\u001b[0;34m()\u001b[0m\n\u001b[1;32m     37\u001b[0m     \u001b[0;32mreturn\u001b[0m \u001b[0mfilter_new_tot\u001b[0m\u001b[0;34m,\u001b[0m \u001b[0mfilter_new_0\u001b[0m\u001b[0;34m,\u001b[0m \u001b[0mfilter_new_4\u001b[0m\u001b[0;34m\u001b[0m\u001b[0;34m\u001b[0m\u001b[0m\n\u001b[1;32m     38\u001b[0m \u001b[0;34m\u001b[0m\u001b[0m\n\u001b[0;32m---> 39\u001b[0;31m \u001b[0mnew_filter_tot\u001b[0m\u001b[0;34m,\u001b[0m \u001b[0mnew_filter_0\u001b[0m\u001b[0;34m,\u001b[0m \u001b[0mnew_filter_4\u001b[0m \u001b[0;34m=\u001b[0m \u001b[0mnew_filter_tot\u001b[0m\u001b[0;34m(\u001b[0m\u001b[0;34m)\u001b[0m\u001b[0;34m\u001b[0m\u001b[0;34m\u001b[0m\u001b[0m\n\u001b[0m",
      "\u001b[0;32m<ipython-input-24-fefcbfb151c0>\u001b[0m in \u001b[0;36mnew_filter_tot\u001b[0;34m()\u001b[0m\n\u001b[1;32m     27\u001b[0m \u001b[0;34m\u001b[0m\u001b[0m\n\u001b[1;32m     28\u001b[0m     \u001b[0;31m#Total Filter\u001b[0m\u001b[0;34m\u001b[0m\u001b[0;34m\u001b[0m\u001b[0;34m\u001b[0m\u001b[0m\n\u001b[0;32m---> 29\u001b[0;31m     \u001b[0mfilter_new_tot\u001b[0m \u001b[0;34m=\u001b[0m \u001b[0macs\u001b[0m \u001b[0;34m&\u001b[0m \u001b[0mbia_tot\u001b[0m \u001b[0;31m#& full_tot #& outgroup_full\u001b[0m\u001b[0;34m\u001b[0m\u001b[0;34m\u001b[0m\u001b[0m\n\u001b[0m\u001b[1;32m     30\u001b[0m \u001b[0;34m\u001b[0m\u001b[0m\n\u001b[1;32m     31\u001b[0m     \u001b[0;31m#codon degeneracy - 0-fold and 4-fold filters\u001b[0m\u001b[0;34m\u001b[0m\u001b[0;34m\u001b[0m\u001b[0;34m\u001b[0m\u001b[0m\n",
      "\u001b[0;31mValueError\u001b[0m: operands could not be broadcast together with shapes (41963435,) (18167056,) "
     ]
    }
   ],
   "source": [
    "def new_filter_tot():\n",
    "    #biallelic for all populations\n",
    "    BFg_bia = (BFg_ac[:,2]<=0)\n",
    "    BFc_bia = (BFc_ac[:,2]<=0)\n",
    "    bia_tot = BFg_bia & BFc_bia \n",
    "    \n",
    "    #All individuals present\n",
    "    #BFg_full = (BFg_b[:,0]==t4)\n",
    "    #BFc_full = (BFc_b[:,0]==t5)\n",
    "    #full_tot = BFg_full & BFc_full \n",
    "                \n",
    "    #Valid Outgroup Sites\n",
    "    #sum_a = np.sum(a_ac, axis=1)>= 1\n",
    "    #filter_a = sum_a & np.invert((a_ac[:,0]>0) & (a_alt[:,0]=='N'))\n",
    "    #sum_q = np.sum(q_ac, axis=1)>= 1\n",
    "    #filter_q = sum_q & np.invert((q_ac[:,0]>0) & (q_alt[:,0] =='N'))\n",
    "    #sum_mer = np.sum(mer_ac, axis=1)>= 1\n",
    "    #filter_mer = sum_mer & np.invert((mer_ac[:,0]>0) & (mer_alt[:,0] =='N'))                           \n",
    "    #sum_mel = np.sum(mel_ac, axis=1)>= 1\n",
    "    #filter_mel = sum_mel & np.invert((mel_ac[:,0]>0) & (mel_alt[:,0] =='N'))\n",
    "    #filter_c = (c_alt[:,0]!='N')\n",
    "    #filter_e = (e_alt[:,0]!='N')\n",
    "    #outgroup_full = filter_a & filter_q & filter_mer & filter_mel & filter_c & filter_e\n",
    "    \n",
    "    #Accessibility \n",
    "    acs = phase2_ar1.accessibility[seqid]['is_accessible'][:]\n",
    "    \n",
    "    #Total Filter\n",
    "    filter_new_tot = acs & bia_tot #& full_tot #& outgroup_full\n",
    "    \n",
    "    #codon degeneracy - 0-fold and 4-fold filters\n",
    "    fourfold = codon_degeneracy==4\n",
    "    zerofold = codon_degeneracy==1\n",
    "    filter_new_0 = filter_new_tot & zerofold \n",
    "    filter_new_4 = filter_new_tot & fourfold\n",
    "    \n",
    "    return filter_new_tot, filter_new_0, filter_new_4\n",
    "\n",
    "new_filter_tot, new_filter_0, new_filter_4 = new_filter_tot()"
   ]
  }
 ],
 "metadata": {
  "kernelspec": {
   "display_name": "Mos-proj",
   "language": "python",
   "name": "mos-proj"
  },
  "language_info": {
   "codemirror_mode": {
    "name": "ipython",
    "version": 3
   },
   "file_extension": ".py",
   "mimetype": "text/x-python",
   "name": "python",
   "nbconvert_exporter": "python",
   "pygments_lexer": "ipython3",
   "version": "3.6.8"
  }
 },
 "nbformat": 4,
 "nbformat_minor": 2
}
